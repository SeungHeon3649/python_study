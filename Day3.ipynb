{
  "nbformat": 4,
  "nbformat_minor": 0,
  "metadata": {
    "colab": {
      "provenance": [],
      "authorship_tag": "ABX9TyP6ha57KPQ0Am58YFfjxdsM",
      "include_colab_link": true
    },
    "kernelspec": {
      "name": "python3",
      "display_name": "Python 3"
    },
    "language_info": {
      "name": "python"
    }
  },
  "cells": [
    {
      "cell_type": "markdown",
      "metadata": {
        "id": "view-in-github",
        "colab_type": "text"
      },
      "source": [
        "<a href=\"https://colab.research.google.com/github/SeungHeon3649/python_study/blob/main/Day3.ipynb\" target=\"_parent\"><img src=\"https://colab.research.google.com/assets/colab-badge.svg\" alt=\"Open In Colab\"/></a>"
      ]
    },
    {
      "cell_type": "markdown",
      "source": [
        "# 파이썬 정의\n",
        "1. 파이썬은 모두 객체다.\n",
        "2. 파이썬에서 공간에 값을 넣으려고 할 때 대상이 없으면 만들고 있으면 갱신한다.\n",
        "3. 파이썬에서 사용시 대상이 있으면 사용 할 수 있고, 없으면 사용 할 수 없다.\n",
        "4. 파이썬에서 사용시 대상이 접근 가능하면 잇다로 취급받고, 접근이 불가능 하면 없다로 취급 받는다.\n",
        "5. 파이썬의 호출은 가까운 것이 우선이다."
      ],
      "metadata": {
        "id": "hLoo6GBGOFsk"
      }
    },
    {
      "cell_type": "code",
      "source": [
        "#def 함수의_이름(매개변수1:매개변수_자료형, 매개변수2:int)->리턴자료형:\n",
        "#   함수도 들여쓰기가 중요 pass\n",
        "#   블록 구문에서 블록이 발생"
      ],
      "metadata": {
        "id": "tdeOEYButRyi"
      },
      "execution_count": null,
      "outputs": []
    },
    {
      "cell_type": "code",
      "source": [
        "def func():\n",
        "    return #1. 값의 전달, 2. 종료 <1,2은 반드시 만족>"
      ],
      "metadata": {
        "id": "w0nSqRQBt7rz"
      },
      "execution_count": null,
      "outputs": []
    },
    {
      "cell_type": "code",
      "source": [
        "print(\"안녕하세요\")\n",
        "print(\"안녕하세요\")\n",
        "print(\"안녕하세요\")\n",
        "print(\"안녕하세요\")\n",
        "print(\"안녕하세요\")"
      ],
      "metadata": {
        "colab": {
          "base_uri": "https://localhost:8080/"
        },
        "id": "1TxlvzN4x99v",
        "outputId": "9740247a-b29b-4db6-b7c6-b99c9d81afa9"
      },
      "execution_count": null,
      "outputs": [
        {
          "output_type": "stream",
          "name": "stdout",
          "text": [
            "안녕하세요\n",
            "안녕하세요\n",
            "안녕하세요\n",
            "안녕하세요\n",
            "안녕하세요\n"
          ]
        }
      ]
    },
    {
      "cell_type": "code",
      "source": [
        "def print_data(문자열):\n",
        "    print(문자열)\n",
        "print_data(\"안녕하세요\")\n",
        "print_data(\"오늘은 금요일\")"
      ],
      "metadata": {
        "colab": {
          "base_uri": "https://localhost:8080/"
        },
        "id": "D4pIhFyRyIdl",
        "outputId": "46f3f349-329d-4b82-ad30-618e3990b9c2"
      },
      "execution_count": null,
      "outputs": [
        {
          "output_type": "stream",
          "name": "stdout",
          "text": [
            "안녕하세요\n",
            "오늘은 금요일\n"
          ]
        }
      ]
    },
    {
      "cell_type": "markdown",
      "source": [
        "#함수의 매개변수<지역변수>\n",
        "1. 일반_매개변수(이름만 있는 매개변수)\n",
        "2. 기본값_매개변수(기본값을 가지고 있는 매개변수)\n",
        "3. 튜플화_매개변수(연속적으로 값을 받아 튜플로 만들어 사용하는 변수)\n",
        "4. 딕셔너리화_매개변수(키와 값을 입력받아 딕셔너리로 만들어 사용하는 매개변수)\n",
        "\n",
        "매개변수의 값 전달 방식\n",
        "- 순서로 전달 <일반, 기본값, 튜플화>\n",
        "- 명시적 전달 <일반, 기본값, 딕셔너리화>\n",
        "- 전달 방식 종합적 아용 방향 <순서 -> 명시>\n"
      ],
      "metadata": {
        "id": "46GOCYT6-HgU"
      }
    },
    {
      "cell_type": "code",
      "source": [
        "def func(x = 1, y = 1):\n",
        "    return x, y\n",
        "#순서로 전달\n",
        "print(func(10, 10))\n",
        "#명시적 전달\n",
        "print(func(y=10, x=20))"
      ],
      "metadata": {
        "colab": {
          "base_uri": "https://localhost:8080/"
        },
        "id": "_j0ZHIWNyxmX",
        "outputId": "58847618-8e00-4d76-fd8f-3a70beee0fb5"
      },
      "execution_count": null,
      "outputs": [
        {
          "output_type": "stream",
          "name": "stdout",
          "text": [
            "(10, 10)\n",
            "(20, 10)\n"
          ]
        }
      ]
    },
    {
      "cell_type": "code",
      "source": [
        "func()\n",
        "func(10,10)"
      ],
      "metadata": {
        "colab": {
          "base_uri": "https://localhost:8080/"
        },
        "id": "FiLFRSJ-_Aqg",
        "outputId": "98f93796-b93b-4ec5-bed3-0c306ff9a5ea"
      },
      "execution_count": null,
      "outputs": [
        {
          "output_type": "execute_result",
          "data": {
            "text/plain": [
              "(10, 10)"
            ]
          },
          "metadata": {},
          "execution_count": 20
        }
      ]
    },
    {
      "cell_type": "code",
      "source": [
        "def func(x, *y): # *y : 튜플 매개변수\n",
        "    return x,y"
      ],
      "metadata": {
        "id": "uAslE73PKxNf"
      },
      "execution_count": null,
      "outputs": []
    },
    {
      "cell_type": "code",
      "source": [
        "func(1) #빈 튜플이라도 만든다\n",
        "func(1,2)\n",
        "func(1,2,3)"
      ],
      "metadata": {
        "colab": {
          "base_uri": "https://localhost:8080/"
        },
        "id": "6DzqXBPIMNnC",
        "outputId": "6a787181-6205-4116-b176-5dbd1540a53b"
      },
      "execution_count": null,
      "outputs": [
        {
          "output_type": "execute_result",
          "data": {
            "text/plain": [
              "(1, (2, 3))"
            ]
          },
          "metadata": {},
          "execution_count": 25
        }
      ]
    },
    {
      "cell_type": "code",
      "source": [
        "def func(x, **y):\n",
        "    return x,y"
      ],
      "metadata": {
        "id": "PelgkJICMPaL"
      },
      "execution_count": null,
      "outputs": []
    },
    {
      "cell_type": "code",
      "source": [
        "func(1)\n",
        "func(y = 10, z = 20, r = 30, x= 5)"
      ],
      "metadata": {
        "colab": {
          "base_uri": "https://localhost:8080/"
        },
        "id": "B4biiZ9DPQbw",
        "outputId": "279a0e2b-934e-4017-dcdb-55987d9cc6b3"
      },
      "execution_count": null,
      "outputs": [
        {
          "output_type": "execute_result",
          "data": {
            "text/plain": [
              "(5, {'y': 10, 'z': 20, 'r': 30})"
            ]
          },
          "metadata": {},
          "execution_count": 40
        }
      ]
    },
    {
      "cell_type": "markdown",
      "source": [
        "매개변수 4개 조합"
      ],
      "metadata": {
        "id": "u1WPkr_ZRXp4"
      }
    },
    {
      "cell_type": "code",
      "source": [
        "def func(x, y=10, *z, **d):\n",
        "    return x,y,z,d\n",
        "#순서 -> 튜플화까지 입력 가능 단, 딕셔너리화 인자는 입력 불가능\n",
        "func(1)\n",
        "func(1, 2)\n",
        "func(1, 2,3)\n",
        "func(1, 2, 3, 4, 5)\n",
        "\n",
        "#명시적\n",
        "func(x = 1)\n",
        "func(x = 1, y = 2)\n",
        "func(x = 1, y = 2, z = 3, d = 4)\n",
        "\n",
        "#순서, 명시적 공통\n",
        "func(1, 2, 3, d = 4)\n",
        "\n",
        "def func(*z, x, y=10, **d):\n",
        "    return x,y,z,d\n",
        "func(1, 2, 3, d = 4, x = 5, y = 6)"
      ],
      "metadata": {
        "colab": {
          "base_uri": "https://localhost:8080/"
        },
        "id": "nJr1eLI0PR8z",
        "outputId": "d5ea03ca-2c47-4752-d2b9-8960c79cbebf"
      },
      "execution_count": null,
      "outputs": [
        {
          "output_type": "execute_result",
          "data": {
            "text/plain": [
              "(5, 6, (1, 2, 3), {'d': 4})"
            ]
          },
          "metadata": {},
          "execution_count": 49
        }
      ]
    },
    {
      "cell_type": "markdown",
      "source": [
        "함수의 할당"
      ],
      "metadata": {
        "id": "hIjbIPVEpGX_"
      }
    },
    {
      "cell_type": "code",
      "source": [
        "def str_print_data(x):\n",
        "    print(f\"입력받은 문자 {{{x}}} 출력\")\n",
        "def num_print_data(x):\n",
        "    print(f\"입력받은 숫자 {{{x}}} 출력\") \n",
        "print_data(\"문자\")\n",
        "a = print_data\n",
        "a(\"data\")\n",
        "print_data(\"데이터\")"
      ],
      "metadata": {
        "colab": {
          "base_uri": "https://localhost:8080/"
        },
        "id": "AUV5UOAORn09",
        "outputId": "d422bd11-15e3-4352-9c3f-287dbacdbb98"
      },
      "execution_count": null,
      "outputs": [
        {
          "output_type": "stream",
          "name": "stdout",
          "text": [
            "입력받은 문자 {문자} 출력\n",
            "입력받은 문자 {data} 출력\n",
            "입력받은 문자 {데이터} 출력\n"
          ]
        }
      ]
    },
    {
      "cell_type": "code",
      "source": [
        "func_list = [str_print_data, num_print_data]\n",
        "# func_list[0] == 글자출력\n",
        "func_list[0](\"데이터\")"
      ],
      "metadata": {
        "colab": {
          "base_uri": "https://localhost:8080/"
        },
        "id": "ZJnIj6aupuM9",
        "outputId": "c8ff1056-401c-4fe7-b440-cc4db678f295"
      },
      "execution_count": null,
      "outputs": [
        {
          "output_type": "stream",
          "name": "stdout",
          "text": [
            "입력받은 문자 {데이터} 출력\n"
          ]
        }
      ]
    },
    {
      "cell_type": "code",
      "source": [
        "func_list[int(input(f\"\"\"1. 글자출력함수\n",
        "2. 숫자출력 함수\n",
        "{'#'*10}\n",
        "함수 선택(1/2):\"\"\")) -1](\"data\")"
      ],
      "metadata": {
        "colab": {
          "base_uri": "https://localhost:8080/"
        },
        "id": "-YtHTtALrGKb",
        "outputId": "08d735f5-c126-47f8-ed54-e694dc3c9816"
      },
      "execution_count": null,
      "outputs": [
        {
          "output_type": "stream",
          "name": "stdout",
          "text": [
            "1. 글자출력함수\n",
            "2. 숫자출력 함수\n",
            "##########\n",
            "함수 선택(1/2):2\n",
            "입력받은 숫자 {data} 출력\n"
          ]
        }
      ]
    },
    {
      "cell_type": "code",
      "source": [
        "def f(n):\n",
        "    if n == 1:\n",
        "        return 1\n",
        "    return n + f(n-1)\n",
        "n = 10\n",
        "f(n)"
      ],
      "metadata": {
        "colab": {
          "base_uri": "https://localhost:8080/"
        },
        "id": "bhfetLJCtPuv",
        "outputId": "49d93b8a-dbe4-4f91-e790-75c9b6a17549"
      },
      "execution_count": null,
      "outputs": [
        {
          "output_type": "execute_result",
          "data": {
            "text/plain": [
              "55"
            ]
          },
          "metadata": {},
          "execution_count": 64
        }
      ]
    },
    {
      "cell_type": "code",
      "source": [
        "a = 10\n",
        "b = a\n",
        "a = 11\n",
        "print(a)\n",
        "print(b)"
      ],
      "metadata": {
        "colab": {
          "base_uri": "https://localhost:8080/"
        },
        "id": "mT4bs8qq3WpI",
        "outputId": "2297eccc-3ac8-4ca1-b42c-071febd192fd"
      },
      "execution_count": null,
      "outputs": [
        {
          "output_type": "stream",
          "name": "stdout",
          "text": [
            "11\n",
            "10\n"
          ]
        }
      ]
    },
    {
      "cell_type": "markdown",
      "source": [
        "#동적할당 과 정적할당\n",
        "동적할당\n",
        "1. 힙영역에 할당\n",
        "2. 런타임(실행시간) 중에 이루어진다.\n",
        "3. 장점 : 경제적이다.\n",
        "4. 단점 : 더 이상 사용하지 않을 때 명시적으로 메모리를 해제해 주어야 한다.\n",
        "\n",
        "정적할당\n",
        "1. 컴파일로 고정되는 DATA영역에 할당\n",
        "2. 컴파일 타임에 이루어진다.\n",
        "3. 장점 : 실행도중 해제되지 않고, 자동 회수된다.\n",
        "4. 단점 : 메모리 크기를 조절 할 수 없다."
      ],
      "metadata": {
        "id": "foVIHOf7MoE3"
      }
    },
    {
      "cell_type": "markdown",
      "source": [
        "#문제\n",
        "\n",
        "8번은 반복문 이프 엘스, 함수로 풀고<tr>\n",
        "\n",
        "제약 조건 : \n",
        "1. 코드는 무조건 리스트로 받아라\n",
        "2. 리스트 했으면 딕셔너리\n",
        "3. 딕셔너리 했으면 클래스"
      ],
      "metadata": {
        "id": "df872-pxQ3qH"
      }
    },
    {
      "cell_type": "code",
      "source": [
        "# 1. 사용자가 입력한 값만큼 0부터 출력하는 프로그램\n",
        "\n",
        "num = int(input(\"입력 : \"))\n",
        "for i in range(num + 1):\n",
        "    print(i,end = \",\")\n",
        "print(\"\\b\")"
      ],
      "metadata": {
        "colab": {
          "base_uri": "https://localhost:8080/"
        },
        "id": "RU8YdG5BP6VX",
        "outputId": "5f5da89d-cb7e-4737-cc9b-09015033d5c4"
      },
      "execution_count": null,
      "outputs": [
        {
          "output_type": "stream",
          "name": "stdout",
          "text": [
            "입력 : 5\n",
            "0,1,2,3,4,5,\b\n"
          ]
        }
      ]
    },
    {
      "cell_type": "code",
      "source": [
        "# 2. 사용자가 정수형 n을 입력하면 1~100까지 출력하는 도중 n이 될 때, \n",
        "# \"사용자의 요청으로 종료\"를 출력 후 반복문을 나가는 프로그램\n",
        "\n",
        "num = int(input(\"입력 : \"))\n",
        "for i in range(1, 101):\n",
        "    if i == num:\n",
        "        print(\"사용자의 요청에 의해 종료\")\n",
        "        break\n",
        "    print(i,end = \",\")"
      ],
      "metadata": {
        "colab": {
          "base_uri": "https://localhost:8080/"
        },
        "id": "t031Ca_tQbOX",
        "outputId": "dd17448b-841f-48dc-e05b-b6953927d2fb"
      },
      "execution_count": 5,
      "outputs": [
        {
          "output_type": "stream",
          "name": "stdout",
          "text": [
            "입력 : 10\n",
            "1,2,3,4,5,6,7,8,9,사용자의 요청에 의해 종료\n"
          ]
        }
      ]
    },
    {
      "cell_type": "code",
      "source": [
        "# 3. 0~100까지 출력하시오. (단 사용자가 입력한 값의 배수는 출력하지 않음)\n",
        "\n",
        "num = int(input(\"입력 : \"))\n",
        "for i in range(1, 101):\n",
        "    if i % num == 0:\n",
        "        continue\n",
        "    else:\n",
        "        print(i, end = \",\")\n",
        "print(\"\\b\")"
      ],
      "metadata": {
        "colab": {
          "base_uri": "https://localhost:8080/"
        },
        "id": "grZ6AxIzTatq",
        "outputId": "2ddba7d3-7406-41b9-a724-9f7330182feb"
      },
      "execution_count": 8,
      "outputs": [
        {
          "output_type": "stream",
          "name": "stdout",
          "text": [
            "입력 : 2\n",
            "1,3,5,7,9,11,13,15,17,19,21,23,25,27,29,31,33,35,37,39,41,43,45,47,49,51,53,55,57,59,61,63,65,67,69,71,73,75,77,79,81,83,85,87,89,91,93,95,97,99,\b\n"
          ]
        }
      ]
    },
    {
      "cell_type": "code",
      "source": [
        "# 4. 정수형 n을 입력 받았을 때 다음과 같이 출력을 하는 프로그램\n",
        "# *        *\n",
        "# **      **\n",
        "# ***    ***\n",
        "# ****  ****\n",
        "# **********      \n",
        "\n",
        "num = int(input(\"입력: \"))\n",
        "gap_loop = (num * 2) - 2\n",
        "star_loop = 1\n",
        "for i in range(num):\n",
        "    print(\"*\" * star_loop, \" \" * gap_loop, \"*\" * star_loop, sep = \"\")\n",
        "    star_loop += 1\n",
        "    gap_loop -= 2"
      ],
      "metadata": {
        "colab": {
          "base_uri": "https://localhost:8080/"
        },
        "id": "k_PhPybqUPB8",
        "outputId": "771231df-3165-4160-bac4-c1f24f571abe"
      },
      "execution_count": null,
      "outputs": [
        {
          "output_type": "stream",
          "name": "stdout",
          "text": [
            "입력: 5\n",
            "*        *\n",
            "**      **\n",
            "***    ***\n",
            "****  ****\n",
            "**********\n"
          ]
        }
      ]
    },
    {
      "cell_type": "code",
      "source": [
        "# 5. 컴퓨터가 생각한 숫자를 맞추는 게임 프로그램\n",
        "# 1 ~ 100 사이의 임의의 정답 값보다 입력된 숫자가 크면 \"Down\"출력\n",
        "# 임의의 정답 값보다 입력된 숫자가 작으면 \"Up\"출력\n",
        "# 임의의 정답 값과 입력된 숫자가 같으면 \"x회째 정답!\"(x는 시도 횟수) 출력과 동시에 게임 종료\n",
        "\n",
        "from random import randint\n",
        "cnt = 0\n",
        "num = []\n",
        "ques = randint(1, 100)\n",
        "\n",
        "while True:\n",
        "  cnt += 1\n",
        "  ans = int(input(f\"{cnt}번째 정답입력 : \"))\n",
        "  num.append(ans)\n",
        "  if ques == ans:\n",
        "    break\n",
        "  elif (ques > ans):\n",
        "    print(\"Up\")\n",
        "  else:\n",
        "    print(\"Down\")\n",
        "\n",
        "print(f\"{cnt}회째 정답!\")\n",
        "print(num)"
      ],
      "metadata": {
        "id": "39wWr_ADUkJR",
        "colab": {
          "base_uri": "https://localhost:8080/"
        },
        "outputId": "3b5137de-fecc-4b9b-8fe9-496ec077b325"
      },
      "execution_count": null,
      "outputs": [
        {
          "output_type": "stream",
          "name": "stdout",
          "text": [
            "1번째 정답입력 : 50\n",
            "Up\n",
            "2번째 정답입력 : 75\n",
            "Down\n",
            "3번째 정답입력 : 65\n",
            "Up\n",
            "4번째 정답입력 : 70\n",
            "Up\n",
            "5번째 정답입력 : 72\n",
            "Up\n",
            "6번째 정답입력 : 73\n",
            "6회째 정답!\n",
            "[50, 75, 65, 70, 72, 73]\n"
          ]
        }
      ]
    },
    {
      "cell_type": "code",
      "source": [
        "# 6. n개의 과목 점수를 입력받아 최고점수, 최저점수, 평균을 출력하는 프로그램을 만드시오.\n",
        "# (단, 사용자가 음수를 입력하면 프로그램이 종료되고 결과를 출력함)\n",
        "\n",
        "num = int(input())\n",
        "score_list = []\n",
        "for i in range(num):\n",
        "    score = int(input())\n",
        "    if score < 0:\n",
        "        break\n",
        "    score_list.append(score)\n",
        "print(f\"최고점수 : {max(score_list)}\")\n",
        "print(f\"최저점수 : {min(score_list)}\")\n",
        "print(f\"평균 : {(sum(score_list) / len(score_list)):.0f}\")"
      ],
      "metadata": {
        "colab": {
          "base_uri": "https://localhost:8080/"
        },
        "id": "OkepfKxZr0Yv",
        "outputId": "d7bcaa8a-096d-4055-d8af-609bc32f3100"
      },
      "execution_count": 9,
      "outputs": [
        {
          "output_type": "stream",
          "name": "stdout",
          "text": [
            "5\n",
            "60\n",
            "70\n",
            "80\n",
            "-1\n",
            "최고점수 : 80\n",
            "최저점수 : 60\n",
            "평균 : 70\n"
          ]
        }
      ]
    },
    {
      "cell_type": "code",
      "source": [
        "# 6. 조건 추가\n",
        "\n",
        "n = int(input(\"과목수 :\"))\n",
        "진짜입력 = []\n",
        "확인 = False\n",
        "for i in range(n):\n",
        "    for 점수 in map(int, input(\"정수 점수 입력 구분자(' ') : \").split()):\n",
        "        if 점수 < 0:\n",
        "            확인 = True\n",
        "            break\n",
        "        진짜입력.append(점수)\n",
        "        if len(진짜입력) == n:\n",
        "            확인 = True\n",
        "            break\n",
        "    if 확인:\n",
        "        break\n",
        "print(f\"최고점수 : {max(진짜입력)}\")\n",
        "print(f\"최저점수 : {min(진짜입력)}\")\n",
        "print(f\"평균 : {(sum(진짜입력) / len(진짜입력)):.0f}\")"
      ],
      "metadata": {
        "colab": {
          "base_uri": "https://localhost:8080/"
        },
        "id": "JZL72KLbsF8_",
        "outputId": "466c33fa-535a-4cc2-a212-4835fd5e4c40"
      },
      "execution_count": 26,
      "outputs": [
        {
          "output_type": "stream",
          "name": "stdout",
          "text": [
            "과목수 :5\n",
            "정수 점수 입력 구분자(' ') : 60 70 80 -1 90\n",
            "최고점수 : 80\n",
            "최저점수 : 60\n",
            "평균 : 70\n"
          ]
        }
      ]
    },
    {
      "cell_type": "code",
      "source": [
        "# 7. 행과 열을 입력받아 다음과 같이 출력하는 프로그램을 만드시오.\n",
        "# 4 5 입력\n",
        "# 1 2 3 4 5\n",
        "# 2 4 6 8 10\n",
        "# 3 6 9 12 15\n",
        "# 4 8 12 16 20\n",
        "\n",
        "num1, num2 = map(int, input(\"입력 : \").split())\n",
        "for i in range(1,num1 + 1):\n",
        "    for j in range(1, num2 + 1):\n",
        "        print(i * j, end = \" \")\n",
        "    print(\"\")"
      ],
      "metadata": {
        "colab": {
          "base_uri": "https://localhost:8080/"
        },
        "id": "TsEP2nPCtxSV",
        "outputId": "e246a832-5c7d-442e-f51d-e2ff5cbffeea"
      },
      "execution_count": 3,
      "outputs": [
        {
          "output_type": "stream",
          "name": "stdout",
          "text": [
            "입력 : 4 5\n",
            "1 2 3 4 5 \n",
            "2 4 6 8 10 \n",
            "3 6 9 12 15 \n",
            "4 8 12 16 20 \n"
          ]
        }
      ]
    },
    {
      "cell_type": "code",
      "source": [
        "# 8. 자동차 관리프로그램\n",
        "\n",
        "def info_data():\n",
        "    print(\"#### 자동차 정보 프로그램 ####\")\n",
        "    print(\"1. 자동차 정보 입력\")\n",
        "    print(\"2. 저장된 목록 보기\")\n",
        "    print(\"3. 각 자동차의 구매 가격 조회\")\n",
        "    print(\"4. 옵션이 있는 자동차 정보 조회\")\n",
        "    print(\"5. 빠른 자동차와 느린 자동차의 속도차 조회\")\n",
        "    print(\"6. 프로그램 이용 종료\")\n",
        "    print(\"#\" * 20)\n",
        "    num = int(input(\"입력 : \"))\n",
        "    print(\"\")\n",
        "    return num\n",
        "\n",
        "def car_input_data(name, engine, tire, option, option_name, max_speed, price):\n",
        "    a = input(\"이름 : \")\n",
        "    name.append(a)\n",
        "    b = int(input(\"엔진 가격 :\" ))\n",
        "    engine.append(b)\n",
        "    c = int(input(\"타이어 가격 :\" ))\n",
        "    tire.append(c)\n",
        "    d = input(\"옵션 :\" )\n",
        "    option.append(d)\n",
        "    e = input(\"옵션 이름 :\" )\n",
        "    option_name.append(e)\n",
        "    f = int(input(\"최고속도 : \"))\n",
        "    max_speed.append(f)\n",
        "    price.append(b + c)\n",
        "    print(\"\")\n",
        "\n",
        "def save_print_data(name, engine, tire, option, option_name, max_speed, price):\n",
        "    for i in range(len(name)):\n",
        "        print(f\"{i + 1}번째 자동차\")\n",
        "        print(f\"이름 : {name[i]}\")\n",
        "        print(f\"엔진가격 : {engine[i]}\")\n",
        "        print(f\"타이어 가격 : {tire[i]}\")\n",
        "        print(f\"옵션 : {option[i]}\")\n",
        "        print(f\"옵션 이름 : {option_name[i]}\")\n",
        "        print(f\"최고속도 : {max_speed[i]}\")\n",
        "        print(f\"구매 가격 : {price[i]} \\n\")\n",
        "\n",
        "def price_print_data(name, price):\n",
        "    for i in range(len(name)):\n",
        "        print(f\"이름 : {name[i]}\")\n",
        "        print(f\"구매가격 : {price[i]}\")\n",
        "        print(\"\")\n",
        "\n",
        "def option_print_data(name, option):\n",
        "    for i in range(len(name)):\n",
        "        if option[i] == \"있음\":\n",
        "             print(f\"{name[i]}\")\n",
        "    print(\"\")\n",
        "\n",
        "def speed_data(max_speed):\n",
        "    speed_diff = max(max_speed) - min(max_speed)\n",
        "    print(f\"가장 빠른 자동차 : {max(max_speed)}\")\n",
        "    print(f\"가장 느린 자동차 : {min(max_speed)}\")\n",
        "    print(f\"속도차 : {speed_diff}\")\n",
        "    print(\"\")\n",
        "\n",
        "name = []\n",
        "engine = []\n",
        "tire = []\n",
        "option = []\n",
        "option_name = []\n",
        "max_speed = []\n",
        "price = []\n",
        "\n",
        "while True:\n",
        "    num = info_data()\n",
        "    if num == 6:\n",
        "        break\n",
        "    elif num == 1:\n",
        "        car_input_data(name, engine, tire, option, option_name, max_speed, price)\n",
        "    elif num == 2:\n",
        "        print_data(name, engine, tire, option, option_name, max_speed, price)\n",
        "    elif num == 3:\n",
        "        price_print_data(name, price)\n",
        "    elif num == 4:\n",
        "        option_print_data(name, option)\n",
        "    elif num == 5:\n",
        "        speed_data(max_speed)\n",
        "    else:\n",
        "        print(\"잘못입력하셨습니다.\")\n"
      ],
      "metadata": {
        "id": "ImQrk34U0811",
        "colab": {
          "base_uri": "https://localhost:8080/"
        },
        "outputId": "217a24ba-0610-4f47-f780-ae3619f26523"
      },
      "execution_count": null,
      "outputs": [
        {
          "output_type": "stream",
          "name": "stdout",
          "text": [
            "#### 자동차 정보 프로그램 ####\n",
            "1. 자동차 정보 입력\n",
            "2. 저장된 목록 보기\n",
            "3. 각 자동차의 구매 가격 조회\n",
            "4. 옵션이 있는 자동차 정보 조회\n",
            "5. 빠른 자동차와 느린 자동차의 속도차 조회\n",
            "6. 프로그램 이용 종료\n",
            "####################\n",
            "입력 : 1\n",
            "\n",
            "이름 : 슈퍼카\n",
            "엔진 가격 :900\n",
            "타이어 가격 :500\n",
            "옵션 :있음\n",
            "옵션 이름 :썬루프\n",
            "최고속도 : 300\n",
            "\n",
            "#### 자동차 정보 프로그램 ####\n",
            "1. 자동차 정보 입력\n",
            "2. 저장된 목록 보기\n",
            "3. 각 자동차의 구매 가격 조회\n",
            "4. 옵션이 있는 자동차 정보 조회\n",
            "5. 빠른 자동차와 느린 자동차의 속도차 조회\n",
            "6. 프로그램 이용 종료\n",
            "####################\n",
            "입력 : 1\n",
            "\n",
            "이름 : 고물차\n",
            "엔진 가격 :473\n",
            "타이어 가격 :365\n",
            "옵션 :없음\n",
            "옵션 이름 :23\n",
            "최고속도 : 23\n",
            "\n",
            "#### 자동차 정보 프로그램 ####\n",
            "1. 자동차 정보 입력\n",
            "2. 저장된 목록 보기\n",
            "3. 각 자동차의 구매 가격 조회\n",
            "4. 옵션이 있는 자동차 정보 조회\n",
            "5. 빠른 자동차와 느린 자동차의 속도차 조회\n",
            "6. 프로그램 이용 종료\n",
            "####################\n",
            "입력 : 2\n",
            "\n",
            "1번째 자동차\n",
            "이름 : 슈퍼카\n",
            "엔진가격 : 900\n",
            "타이어 가격 : 500\n",
            "옵션 : 있음\n",
            "옵션 이름 : 썬루프\n",
            "최고속도 : 300\n",
            "구매 가격 : 1400\n",
            "2번째 자동차\n",
            "이름 : 고물차\n",
            "엔진가격 : 473\n",
            "타이어 가격 : 365\n",
            "옵션 : 없음\n",
            "옵션 이름 : 23\n",
            "최고속도 : 23\n",
            "구매 가격 : 838\n",
            "#### 자동차 정보 프로그램 ####\n",
            "1. 자동차 정보 입력\n",
            "2. 저장된 목록 보기\n",
            "3. 각 자동차의 구매 가격 조회\n",
            "4. 옵션이 있는 자동차 정보 조회\n",
            "5. 빠른 자동차와 느린 자동차의 속도차 조회\n",
            "6. 프로그램 이용 종료\n",
            "####################\n",
            "입력 : 3\n",
            "\n",
            "이름 : 슈퍼카\n",
            "구매가격 : 1400\n",
            "\n",
            "이름 : 고물차\n",
            "구매가격 : 838\n",
            "\n",
            "#### 자동차 정보 프로그램 ####\n",
            "1. 자동차 정보 입력\n",
            "2. 저장된 목록 보기\n",
            "3. 각 자동차의 구매 가격 조회\n",
            "4. 옵션이 있는 자동차 정보 조회\n",
            "5. 빠른 자동차와 느린 자동차의 속도차 조회\n",
            "6. 프로그램 이용 종료\n",
            "####################\n",
            "입력 : 4\n",
            "\n",
            "슈퍼카\n",
            "\n",
            "#### 자동차 정보 프로그램 ####\n",
            "1. 자동차 정보 입력\n",
            "2. 저장된 목록 보기\n",
            "3. 각 자동차의 구매 가격 조회\n",
            "4. 옵션이 있는 자동차 정보 조회\n",
            "5. 빠른 자동차와 느린 자동차의 속도차 조회\n",
            "6. 프로그램 이용 종료\n",
            "####################\n",
            "입력 : 5\n",
            "\n",
            "가장 빠른 자동차 : 300\n",
            "가장 느린 자동차 : 23\n",
            "속도차 : 277\n",
            "\n",
            "#### 자동차 정보 프로그램 ####\n",
            "1. 자동차 정보 입력\n",
            "2. 저장된 목록 보기\n",
            "3. 각 자동차의 구매 가격 조회\n",
            "4. 옵션이 있는 자동차 정보 조회\n",
            "5. 빠른 자동차와 느린 자동차의 속도차 조회\n",
            "6. 프로그램 이용 종료\n",
            "####################\n",
            "입력 : 6\n",
            "\n"
          ]
        }
      ]
    },
    {
      "cell_type": "code",
      "source": [
        "# 8. 자동차 관리프로그램(함수)\n",
        "\n",
        "def info_data():\n",
        "    print(\"\")\n",
        "    print(\"#### 자동차 정보 프로그램 ####\")\n",
        "    print(\"1. 자동차 정보 입력\")\n",
        "    print(\"2. 저장된 목록 보기\")\n",
        "    print(\"3. 각 자동차의 구매 가격 조회\")\n",
        "    print(\"4. 옵션이 있는 자동차 정보 조회\")\n",
        "    print(\"5. 빠른 자동차와 느린 자동차의 속도차 조회\")\n",
        "    print(\"6. 프로그램 이용 종료\")\n",
        "    print(\"#\" * 20)\n",
        "    num = int(input(\"입력 : \"))\n",
        "    print(\"\")\n",
        "    return num\n",
        "\n",
        "def car_input_data(car_data):\n",
        "    name = input(\"이름 : \")\n",
        "    engine = int(input(\"엔진 가격 :\" ))\n",
        "    tire = int(input(\"타이어 가격 :\" ))\n",
        "    option = input(\"옵션 :\" )\n",
        "    option_name = input(\"옵션 이름 :\" )\n",
        "    max_speed = int(input(\"최고속도 : \"))\n",
        "    price = engine + tire\n",
        "    car_data.append([name, engine, tire, option, option_name, max_speed, price])\n",
        "\n",
        "def save_print_data(car_data):\n",
        "    for car in car_data:\n",
        "        print(\"-\" * 20)\n",
        "        print(f\"이름 : {car[0]}\")\n",
        "        print(f\"엔진가격 : {car[1]}\")\n",
        "        print(f\"타이어 가격 : {car[2]}\")\n",
        "        print(f\"옵션 : {car[3]}\")\n",
        "        print(f\"옵션 이름 : {car[4]}\")\n",
        "        print(f\"최고속도 : {car[5]}\")\n",
        "        print(f\"구매 가격 : {car[6]} \\n\")\n",
        "        print(\"-\" * 20)\n",
        "\n",
        "def price_print_data(car_data):\n",
        "    for car in car_data:\n",
        "        print(f\"이름 : {car[0]}\")\n",
        "        print(f\"구매가격 : {car[6]}\")\n",
        "        print(\"\")\n",
        "\n",
        "def option_print_data(cara_data):\n",
        "    for car in car_data:\n",
        "        if car[3] == \"있음\":\n",
        "             print(\"-\" * 20)\n",
        "             print(f\"이름 : {car[0]}\")\n",
        "             print(f\"엔진가격 : {car[1]}\")\n",
        "             print(f\"타이어 가격 : {car[2]}\")\n",
        "             print(f\"옵션 : {car[3]}\")\n",
        "             print(f\"옵션 이름 : {car[4]}\")\n",
        "             print(f\"최고속도 : {car[5]}\")\n",
        "             print(f\"구매 가격 : {car[6]} \\n\")\n",
        "             print(\"-\" * 20)\n",
        "\n",
        "def speed_data(car_data):\n",
        "    max_speed = 0\n",
        "    min_speed = 5000\n",
        "    for car in car_data:\n",
        "        max_speed = max_speed if car[5] < max_speed else car[5]\n",
        "        min_speed = min_speed if car[5] > min_speed else car[5] \n",
        "    print(\"-\" * 20)    \n",
        "    print(f\"속도차 : {max_speed - min_speed}\")\n",
        "    print(\"-\" * 20)\n",
        "\n",
        "car_data = []\n",
        "\n",
        "while True:\n",
        "    num = info_data()\n",
        "    if num == 6:\n",
        "        break\n",
        "    elif num == 1:\n",
        "        car_input_data(car_data)\n",
        "    elif num == 2:\n",
        "        save_print_data(car_data)\n",
        "    elif num == 3:\n",
        "        price_print_data(car_data)\n",
        "    elif num == 4:\n",
        "        option_print_data(car_data)\n",
        "    elif num == 5:\n",
        "        speed_data(car_data)\n",
        "    else:\n",
        "        print(\"잘못입력하셨습니다.\")\n"
      ],
      "metadata": {
        "colab": {
          "base_uri": "https://localhost:8080/",
          "height": 914
        },
        "id": "wb3-yYgk-Zrc",
        "outputId": "07248e4b-552f-4309-9224-84a8303c166b"
      },
      "execution_count": 19,
      "outputs": [
        {
          "output_type": "stream",
          "name": "stdout",
          "text": [
            "\n",
            "#### 자동차 정보 프로그램 ####\n",
            "1. 자동차 정보 입력\n",
            "2. 저장된 목록 보기\n",
            "3. 각 자동차의 구매 가격 조회\n",
            "4. 옵션이 있는 자동차 정보 조회\n",
            "5. 빠른 자동차와 느린 자동차의 속도차 조회\n",
            "6. 프로그램 이용 종료\n",
            "####################\n",
            "입력 : 1\n",
            "\n",
            "이름 : 슈퍼카\n",
            "엔진 가격 :900\n",
            "타이어 가격 :500\n",
            "옵션 :있음\n",
            "옵션 이름 :썬루프\n",
            "최고속도 : 300\n",
            "--------------------\n",
            "\n",
            "#### 자동차 정보 프로그램 ####\n",
            "1. 자동차 정보 입력\n",
            "2. 저장된 목록 보기\n",
            "3. 각 자동차의 구매 가격 조회\n",
            "4. 옵션이 있는 자동차 정보 조회\n",
            "5. 빠른 자동차와 느린 자동차의 속도차 조회\n",
            "6. 프로그램 이용 종료\n",
            "####################\n"
          ]
        },
        {
          "output_type": "error",
          "ename": "KeyboardInterrupt",
          "evalue": "ignored",
          "traceback": [
            "\u001b[0;31m---------------------------------------------------------------------------\u001b[0m",
            "\u001b[0;31mKeyboardInterrupt\u001b[0m                         Traceback (most recent call last)",
            "\u001b[0;32m<ipython-input-19-d149e8d842f6>\u001b[0m in \u001b[0;36m<cell line: 71>\u001b[0;34m()\u001b[0m\n\u001b[1;32m     70\u001b[0m \u001b[0;34m\u001b[0m\u001b[0m\n\u001b[1;32m     71\u001b[0m \u001b[0;32mwhile\u001b[0m \u001b[0;32mTrue\u001b[0m\u001b[0;34m:\u001b[0m\u001b[0;34m\u001b[0m\u001b[0;34m\u001b[0m\u001b[0m\n\u001b[0;32m---> 72\u001b[0;31m     \u001b[0mnum\u001b[0m \u001b[0;34m=\u001b[0m \u001b[0minfo_data\u001b[0m\u001b[0;34m(\u001b[0m\u001b[0;34m)\u001b[0m\u001b[0;34m\u001b[0m\u001b[0;34m\u001b[0m\u001b[0m\n\u001b[0m\u001b[1;32m     73\u001b[0m     \u001b[0;32mif\u001b[0m \u001b[0mnum\u001b[0m \u001b[0;34m==\u001b[0m \u001b[0;36m6\u001b[0m\u001b[0;34m:\u001b[0m\u001b[0;34m\u001b[0m\u001b[0;34m\u001b[0m\u001b[0m\n\u001b[1;32m     74\u001b[0m         \u001b[0;32mbreak\u001b[0m\u001b[0;34m\u001b[0m\u001b[0;34m\u001b[0m\u001b[0m\n",
            "\u001b[0;32m<ipython-input-19-d149e8d842f6>\u001b[0m in \u001b[0;36minfo_data\u001b[0;34m()\u001b[0m\n\u001b[1;32m     11\u001b[0m     \u001b[0mprint\u001b[0m\u001b[0;34m(\u001b[0m\u001b[0;34m\"6. 프로그램 이용 종료\"\u001b[0m\u001b[0;34m)\u001b[0m\u001b[0;34m\u001b[0m\u001b[0;34m\u001b[0m\u001b[0m\n\u001b[1;32m     12\u001b[0m     \u001b[0mprint\u001b[0m\u001b[0;34m(\u001b[0m\u001b[0;34m\"#\"\u001b[0m \u001b[0;34m*\u001b[0m \u001b[0;36m20\u001b[0m\u001b[0;34m)\u001b[0m\u001b[0;34m\u001b[0m\u001b[0;34m\u001b[0m\u001b[0m\n\u001b[0;32m---> 13\u001b[0;31m     \u001b[0mnum\u001b[0m \u001b[0;34m=\u001b[0m \u001b[0mint\u001b[0m\u001b[0;34m(\u001b[0m\u001b[0minput\u001b[0m\u001b[0;34m(\u001b[0m\u001b[0;34m\"입력 : \"\u001b[0m\u001b[0;34m)\u001b[0m\u001b[0;34m)\u001b[0m\u001b[0;34m\u001b[0m\u001b[0;34m\u001b[0m\u001b[0m\n\u001b[0m\u001b[1;32m     14\u001b[0m     \u001b[0mprint\u001b[0m\u001b[0;34m(\u001b[0m\u001b[0;34m\"\"\u001b[0m\u001b[0;34m)\u001b[0m\u001b[0;34m\u001b[0m\u001b[0;34m\u001b[0m\u001b[0m\n\u001b[1;32m     15\u001b[0m     \u001b[0;32mreturn\u001b[0m \u001b[0mnum\u001b[0m\u001b[0;34m\u001b[0m\u001b[0;34m\u001b[0m\u001b[0m\n",
            "\u001b[0;32m/usr/local/lib/python3.10/dist-packages/ipykernel/kernelbase.py\u001b[0m in \u001b[0;36mraw_input\u001b[0;34m(self, prompt)\u001b[0m\n\u001b[1;32m    849\u001b[0m                 \u001b[0;34m\"raw_input was called, but this frontend does not support input requests.\"\u001b[0m\u001b[0;34m\u001b[0m\u001b[0;34m\u001b[0m\u001b[0m\n\u001b[1;32m    850\u001b[0m             )\n\u001b[0;32m--> 851\u001b[0;31m         return self._input_request(str(prompt),\n\u001b[0m\u001b[1;32m    852\u001b[0m             \u001b[0mself\u001b[0m\u001b[0;34m.\u001b[0m\u001b[0m_parent_ident\u001b[0m\u001b[0;34m,\u001b[0m\u001b[0;34m\u001b[0m\u001b[0;34m\u001b[0m\u001b[0m\n\u001b[1;32m    853\u001b[0m             \u001b[0mself\u001b[0m\u001b[0;34m.\u001b[0m\u001b[0m_parent_header\u001b[0m\u001b[0;34m,\u001b[0m\u001b[0;34m\u001b[0m\u001b[0;34m\u001b[0m\u001b[0m\n",
            "\u001b[0;32m/usr/local/lib/python3.10/dist-packages/ipykernel/kernelbase.py\u001b[0m in \u001b[0;36m_input_request\u001b[0;34m(self, prompt, ident, parent, password)\u001b[0m\n\u001b[1;32m    893\u001b[0m             \u001b[0;32mexcept\u001b[0m \u001b[0mKeyboardInterrupt\u001b[0m\u001b[0;34m:\u001b[0m\u001b[0;34m\u001b[0m\u001b[0;34m\u001b[0m\u001b[0m\n\u001b[1;32m    894\u001b[0m                 \u001b[0;31m# re-raise KeyboardInterrupt, to truncate traceback\u001b[0m\u001b[0;34m\u001b[0m\u001b[0;34m\u001b[0m\u001b[0m\n\u001b[0;32m--> 895\u001b[0;31m                 \u001b[0;32mraise\u001b[0m \u001b[0mKeyboardInterrupt\u001b[0m\u001b[0;34m(\u001b[0m\u001b[0;34m\"Interrupted by user\"\u001b[0m\u001b[0;34m)\u001b[0m \u001b[0;32mfrom\u001b[0m \u001b[0;32mNone\u001b[0m\u001b[0;34m\u001b[0m\u001b[0;34m\u001b[0m\u001b[0m\n\u001b[0m\u001b[1;32m    896\u001b[0m             \u001b[0;32mexcept\u001b[0m \u001b[0mException\u001b[0m \u001b[0;32mas\u001b[0m \u001b[0me\u001b[0m\u001b[0;34m:\u001b[0m\u001b[0;34m\u001b[0m\u001b[0;34m\u001b[0m\u001b[0m\n\u001b[1;32m    897\u001b[0m                 \u001b[0mself\u001b[0m\u001b[0;34m.\u001b[0m\u001b[0mlog\u001b[0m\u001b[0;34m.\u001b[0m\u001b[0mwarning\u001b[0m\u001b[0;34m(\u001b[0m\u001b[0;34m\"Invalid Message:\"\u001b[0m\u001b[0;34m,\u001b[0m \u001b[0mexc_info\u001b[0m\u001b[0;34m=\u001b[0m\u001b[0;32mTrue\u001b[0m\u001b[0;34m)\u001b[0m\u001b[0;34m\u001b[0m\u001b[0;34m\u001b[0m\u001b[0m\n",
            "\u001b[0;31mKeyboardInterrupt\u001b[0m: Interrupted by user"
          ]
        }
      ]
    },
    {
      "cell_type": "code",
      "source": [
        "#리스트\n",
        "\n",
        "자동차_리스트 = []\n",
        "최고속도_v = 0\n",
        "최저속도_v = 1000\n",
        "while True:\n",
        "    조건 = int(input(\"입력(1~6) : \")[0])\n",
        "    if 조건 == 1:\n",
        "        이름 = input(\"이름 : \")\n",
        "        엔진가격 = int(input(\"엔진가격 : \"))\n",
        "        타이어가격 = int(input(\"타이어가격 : \"))\n",
        "        옵션 = input(\"옵션 : \")\n",
        "        if 옵션 == \"있음\":\n",
        "            옵션이름 = input(\"옵션 이름 : \")\n",
        "        else:\n",
        "            옵션이름 = \"없음\"\n",
        "        최고속도 = int(input(\"최고속도 : \"))\n",
        "        최고속도_v = 최고속도_v if 최고속도_v > 최고속도 else 최고속도\n",
        "        최저속도_v = 최저속도_v if 최저속도_v < 최고속도 else 최고속도\n",
        "        구매가격 = 엔진가격 + 타이어가격\n",
        "        자동차_리스트.append([이름, 엔진가격, 타이어가격, 옵션, 옵션이름, 최고속도, 구매가격])\n",
        "    elif 조건 == 2:\n",
        "        print(\"자동차 정보 출력\")\n",
        "        print(\"-\" * 20)\n",
        "        for 자동차 in 자동차_리스트:\n",
        "            print(f\"이름:{자동차[0]}\")\n",
        "            print(f\"엔진가격:{자동차[1]}\")\n",
        "            print(f\"타이어가격:{자동차[2]}\")\n",
        "            print(f\"옵션:{자동차[3]}\")\n",
        "            print(f\"옵션이름:{자동차[4]}\")\n",
        "            print(f\"최고속도:{자동차[5]}\")\n",
        "            print(f\"구매가격:{자동차[6]}\")\n",
        "            print(\"-\" * 20)\n",
        "        else:\n",
        "            print(\"정보 조회가 완료 되었습니다.\")\n",
        "            input()\n",
        "    elif 조건 == 3:\n",
        "        print(\"자동차 구매 가격 조회\")\n",
        "        print(\"-\" * 20)\n",
        "        for 자동차 in 자동차_리스트:\n",
        "            if 자동차[3] == \"있음\":\n",
        "                print(f\"이름:{자동차[0]}\")\n",
        "                print(f\"구매가격:{자동차[6]}\")\n",
        "                print(\"-\" * 20)\n",
        "        else:\n",
        "            print(\"구매가격 조회가 완료 되었습니다.\")\n",
        "            input()\n",
        "    \n",
        "    elif 조건 == 4:\n",
        "        print(\"옵션 정보 출력\")\n",
        "        print(\"-\" * 20)\n",
        "\n",
        "    elif 조건 == 5:\n",
        "        print(f\"기록된 차량의 속도차는 {최고속도_v - 최저속도_v}입니다.\")\n",
        "    elif 조건 == 6:\n",
        "        break\n",
        "    else:\n",
        "        print(\"잘못입력하셨습니다.\")"
      ],
      "metadata": {
        "id": "gLV3TioeM1BH"
      },
      "execution_count": null,
      "outputs": []
    },
    {
      "cell_type": "code",
      "source": [
        "#딕셔너리\n",
        "\n",
        "자동차_리스트 = []\n",
        "최고속도_v = 0\n",
        "최저속도_v = 1000\n",
        "while True:\n",
        "    조건 = int(input(\"입력(1~6) : \")[0])\n",
        "    if 조건 == 1:\n",
        "        자동차 = {}\n",
        "        이름 = input(\"이름 : \")\n",
        "        자동차[\"이름\"] = 이름\n",
        "        엔진가격 = int(input(\"엔진가격 : \"))\n",
        "        자동차[\"엔진가격\"] = 엔진가격\n",
        "        타이어가격 = int(input(\"타이어가격 : \"))\n",
        "        자동차[\"타이어가격\"] = 타이어가격\n",
        "        옵션 = input(\"옵션 : \")\n",
        "        자동차[\"옵션\"] = 옵션\n",
        "        if 옵션 == \"있음\":\n",
        "            옵션이름 = input(\"옵션 이름 : \")\n",
        "        else:\n",
        "            옵션이름 = \"없음\"\n",
        "        자동차[\"옵션이름\"] = 옵션이름\n",
        "        최고속도 = int(input(\"최고속도 : \"))\n",
        "        자동차[\"최고속도\"] = 최고속도\n",
        "        최고속도_v = 최고속도_v if 최고속도_v > 최고속도 else 최고속도\n",
        "        최저속도_v = 최저속도_v if 최저속도_v < 최고속도 else 최고속도\n",
        "        구매가격 = 엔진가격 + 타이어가격\n",
        "        자동차[\"구매가격\"] = 구매가격\n",
        "        자동차_리스트.append(자동차)\n",
        "    elif 조건 == 2:\n",
        "        print(\"자동차 정보 출력\")\n",
        "        print(\"-\" * 20)\n",
        "        for 자동차 in 자동차_리스트:\n",
        "            print(f\"이름:{자동차['이름']}\")\n",
        "            print(f\"엔진가격:{자동차['엔진가격']}\")\n",
        "            print(f\"타이어가격:{자동차['타이어가격']}\")\n",
        "            print(f\"옵션:{자동차['옵션']}\")\n",
        "            print(f\"옵션이름:{자동차['옵션이름']}\")\n",
        "            print(f\"최고속도:{자동차['최고속도']}\")\n",
        "            print(f\"구매가격:{자동차['구매가격']}\")\n",
        "            print(\"-\" * 20)\n",
        "        else:\n",
        "            print(\"정보 조회가 완료 되었습니다.\")\n",
        "            input()\n",
        "    elif 조건 == 3:\n",
        "        print(\"자동차 구매 가격 조회\")\n",
        "        print(\"-\" * 20)\n",
        "        for 자동차 in 자동차_리스트:\n",
        "            if 자동차['옵션'] == \"있음\":\n",
        "                print(f\"이름:{자동차['이름']}\")\n",
        "                print(f\"구매가격:{자동차['구매가격']}\")\n",
        "                print(\"-\" * 20)\n",
        "        else:\n",
        "            print(\"구매가격 조회가 완료 되었습니다.\")\n",
        "            input()\n",
        "    \n",
        "    elif 조건 == 4:\n",
        "        print(\"옵션 정보 출력\")\n",
        "        print(\"-\" * 20)\n",
        "        for 자동차 in 자동차_리스트:\n",
        "            if 자동차['옵션'] == \"있음\":\n",
        "                print(f\"이름:{자동차['이름']}\")\n",
        "                print(f\"엔진가격:{자동차['엔진가격']}\")\n",
        "                print(f\"타이어가격:{자동차['타이어가격']}\")\n",
        "                print(f\"옵션:{자동차['옵션']}\")\n",
        "                print(f\"옵션이름:{자동차['옵션이름']}\")\n",
        "                print(f\"최고속도:{자동차['최고속도']}\")\n",
        "                print(f\"구매가격:{자동차['구매가격']}\")\n",
        "                print(\"-\" * 20)\n",
        "\n",
        "    elif 조건 == 5:\n",
        "        print(f\"기록된 차량의 속도차는 {최고속도_v - 최저속도_v}입니다.\")\n",
        "    elif 조건 == 6:\n",
        "        break\n",
        "    else:\n",
        "        print(\"잘못입력하셨습니다.\")"
      ],
      "metadata": {
        "colab": {
          "base_uri": "https://localhost:8080/"
        },
        "id": "puso64HgQypB",
        "outputId": "1d274f3e-0be9-431f-b38a-0b7dc2c01de6"
      },
      "execution_count": 14,
      "outputs": [
        {
          "name": "stdout",
          "output_type": "stream",
          "text": [
            "입력(1~6) : 6\n"
          ]
        }
      ]
    },
    {
      "cell_type": "code",
      "source": [
        "# 딕셔너리 함수\n",
        "\n",
        "UI = f\"\"\"### 자동차 정보 프로그램 ####\n",
        "1. 자동차 정보 입력\n",
        "2. 저장된 목록 보기\n",
        "3. 각 자동차의 구매 가격 조회\n",
        "4. 옵션이 있는 자동차 정보 조회\n",
        "5. 빠른 자동차와 느린 자동차의 속도차 조회\n",
        "6. 프로그램 이용 종료\n",
        "{'#' * 30}\n",
        "입력:\"\"\"\n",
        "자동차_리스트 = []\n",
        "최고속도_v = 0\n",
        "최저속도_v = 1000\n",
        "\n",
        "def 정보입력():\n",
        "    global 최고속도_v, 최저속도_v\n",
        "    자동차 = {}\n",
        "    자동차[\"이름\"] = input(\"이름 : \")\n",
        "    자동차[\"엔진가격\"] = int(input(\"엔진가격 : \"))\n",
        "    자동차[\"타이어가격\"] = int(input(\"타이어가격 : \"))\n",
        "    자동차[\"옵션\"] = input(\"옵션 : \")\n",
        "    if 자동차['옵션'] == \"있음\":\n",
        "        자동차['옵션이름'] = input(\"옵션 이름 : \")\n",
        "    else:\n",
        "        자동차[\"옵션이름\"] = \"없음\"\n",
        "    자동차[\"최고속도\"] = int(input(\"최고속도 : \"))\n",
        "    최고속도_v = 최고속도_v if 최고속도_v > 자동차['최고속도'] else 자동차['최고속도']\n",
        "    최저속도_v = 최저속도_v if 최저속도_v < 자동차['최고속도'] else 자동차['최고속도']\n",
        "    자동차[\"구매가격\"] = 엔진가격 + 타이어가격\n",
        "    자동차_리스트.append(자동차)\n",
        "\n",
        "def 정보_총출력():\n",
        "    print(\"자동차 정보 출력\")\n",
        "    print(\"-\" * 20)\n",
        "    for 자동차 in 자동차_리스트:\n",
        "        print(f\"\"\"이름:{자동차['이름']}\n",
        "엔진가격:{자동차['엔진가격']}\n",
        "타이어가격:{자동차['타이어가격']}\n",
        "옵션:{자동차['옵션']}\n",
        "옵션이름:{자동차['옵션이름']}\n",
        "최고속도:{자동차['최고속도']}\n",
        "구매가격:{자동차['구매가격']}\n",
        "{'-' * 20}\"\"\")\n",
        "    else:\n",
        "        print(\"정보 조회가 완료 되었습니다.\")\n",
        "        input()\n",
        "\n",
        "def 구매가격_출력():\n",
        "    print(\"구매가격 정보 출력\")\n",
        "    print(\"-\" * 20)\n",
        "    for 자동차 in 자동차_리스트:\n",
        "        print(f\"\"\"이름:{자동차['이름']}\n",
        "구매가격:{자동차['구매가격']}\n",
        "{'-' * 20}\"\"\")\n",
        "    else:\n",
        "        print(\"정보 조회가 완료 되었습니다.\")\n",
        "        input()\n",
        "\n",
        "def 옵션_정보출력():\n",
        "    print(\"자동차 정보 출력\")\n",
        "    print(\"-\" * 20)\n",
        "    for 자동차 in 자동차_리스트:\n",
        "        if 자동차['옵션'] == \"있음\":\n",
        "            print(f\"\"\"이름:{자동차['이름']}\n",
        "엔진가격:{자동차['엔진가격']}\n",
        "타이어가격:{자동차['타이어가격']}\n",
        "옵션:{자동차['옵션']}\n",
        "옵션이름:{자동차['옵션이름']}\n",
        "최고속도:{자동차['최고속도']}\n",
        "구매가격:{자동차['구매가격']}\n",
        "{'-' * 20}\"\"\")\n",
        "    else:\n",
        "        print(\"정보 조회가 완료 되었습니다.\")\n",
        "        input()\n",
        "\n",
        "def 속도차_출력():\n",
        "    print(f\"기록된 차량의 속도차는 {최고속도_v - 최저속도_v}입니다.\")\n",
        "\n",
        "def main():\n",
        "    메뉴 = int(input(UI))\n",
        "    if 메뉴 == 1:\n",
        "        정보입력()\n",
        "    elif 메뉴 == 2:\n",
        "        정보_총출력()\n",
        "    elif 메뉴 == 3:\n",
        "        구매가격_출력()\n",
        "    elif 메뉴 == 4:\n",
        "        옵션_정보출력()\n",
        "    elif 메뉴 == 5:\n",
        "        속도차_출력()\n",
        "    elif 메뉴 == 6:\n",
        "        return True\n",
        "\n",
        "if __name__ == \"__main__\":\n",
        "    run = False\n",
        "    while not run:\n",
        "        run = main()\n",
        "    else:\n",
        "        print(\"프로그램이 종료됩니다.\")"
      ],
      "metadata": {
        "id": "VEInbtSGR43S"
      },
      "execution_count": null,
      "outputs": []
    },
    {
      "cell_type": "code",
      "source": [
        "UI = f\"\"\"### 자동차 정보 프로그램 ####\n",
        "1. 자동차 정보 입력\n",
        "2. 저장된 목록 보기\n",
        "3. 각 자동차의 구매 가격 조회\n",
        "4. 옵션이 있는 자동차 정보 조회\n",
        "5. 빠른 자동차와 느린 자동차의 속도차 조회\n",
        "6. 프로그램 이용 종료\n",
        "{'#' * 30}\n",
        "입력:\"\"\"\n",
        "자동차_리스트 = []\n",
        "최고속도_v = 0\n",
        "최저속도_v = 1000\n",
        "\n",
        "def 정보입력():\n",
        "    global 최고속도_v, 최저속도_v\n",
        "    자동차 = {}\n",
        "    자동차[\"이름\"] = input(\"이름 : \")\n",
        "    자동차[\"엔진가격\"] = int(input(\"엔진가격 : \"))\n",
        "    자동차[\"타이어가격\"] = int(input(\"타이어가격 : \"))\n",
        "    자동차[\"옵션\"] = input(\"옵션 : \")\n",
        "    if 자동차['옵션'] == \"있음\":\n",
        "        자동차['옵션이름'] = input(\"옵션 이름 : \")\n",
        "    else:\n",
        "        자동차[\"옵션이름\"] = \"없음\"\n",
        "    자동차[\"최고속도\"] = int(input(\"최고속도 : \"))\n",
        "    최고속도_v = 최고속도_v if 최고속도_v > 자동차['최고속도'] else 자동차['최고속도']\n",
        "    최저속도_v = 최저속도_v if 최저속도_v < 자동차['최고속도'] else 자동차['최고속도']\n",
        "    자동차[\"구매가격\"] = 엔진가격 + 타이어가격\n",
        "    자동차_리스트.append(자동차)\n",
        "\n",
        "def 정보_총출력():\n",
        "    print(\"자동차 정보 출력\")\n",
        "    print(\"-\" * 20)\n",
        "    for 자동차 in 자동차_리스트:\n",
        "        print(f\"\"\"이름:{자동차['이름']}\n",
        "엔진가격:{자동차['엔진가격']}\n",
        "타이어가격:{자동차['타이어가격']}\n",
        "옵션:{자동차['옵션']}\n",
        "옵션이름:{자동차['옵션이름']}\n",
        "최고속도:{자동차['최고속도']}\n",
        "구매가격:{자동차['구매가격']}\n",
        "{'-' * 20}\"\"\")\n",
        "    else:\n",
        "        print(\"정보 조회가 완료 되었습니다.\")\n",
        "        input()\n",
        "\n",
        "def 구매가격_출력():\n",
        "    print(\"구매가격 정보 출력\")\n",
        "    print(\"-\" * 20)\n",
        "    for 자동차 in 자동차_리스트:\n",
        "        print(f\"\"\"이름:{자동차['이름']}\n",
        "구매가격:{자동차['구매가격']}\n",
        "{'-' * 20}\"\"\")\n",
        "    else:\n",
        "        print(\"정보 조회가 완료 되었습니다.\")\n",
        "        input()\n",
        "\n",
        "def 옵션_정보출력():\n",
        "    print(\"자동차 정보 출력\")\n",
        "    print(\"-\" * 20)\n",
        "    for 자동차 in 자동차_리스트:\n",
        "        if 자동차['옵션'] == \"있음\":\n",
        "            print(f\"\"\"이름:{자동차['이름']}\n",
        "엔진가격:{자동차['엔진가격']}\n",
        "타이어가격:{자동차['타이어가격']}\n",
        "옵션:{자동차['옵션']}\n",
        "옵션이름:{자동차['옵션이름']}\n",
        "최고속도:{자동차['최고속도']}\n",
        "구매가격:{자동차['구매가격']}\n",
        "{'-' * 20}\"\"\")\n",
        "    else:\n",
        "        print(\"정보 조회가 완료 되었습니다.\")\n",
        "        input()\n",
        "\n",
        "def 속도차_출력():\n",
        "    print(f\"기록된 차량의 속도차는 {최고속도_v - 최저속도_v}입니다.\")\n",
        "    \n",
        "def 종료():\n",
        "    return True\n",
        "m = [정보입력, 정보_총출력, 구매가격_출력, 옵션_정보출력, 속도차_출력, 종료]\n",
        "\n",
        "if __name__ == \"__main__\":\n",
        "    run = False\n",
        "    while not run:\n",
        "        run = m[int(input(UI)) - 1]()\n",
        "    else:\n",
        "        print(\"프로그램이 종료됩니다.\")"
      ],
      "metadata": {
        "colab": {
          "base_uri": "https://localhost:8080/"
        },
        "id": "9pBc6RLPZkso",
        "outputId": "debc7aa6-6022-4b1b-9685-abdbd6464217"
      },
      "execution_count": 23,
      "outputs": [
        {
          "output_type": "stream",
          "name": "stdout",
          "text": [
            "### 자동차 정보 프로그램 ####\n",
            "1. 자동차 정보 입력\n",
            "2. 저장된 목록 보기\n",
            "3. 각 자동차의 구매 가격 조회\n",
            "4. 옵션이 있는 자동차 정보 조회\n",
            "5. 빠른 자동차와 느린 자동차의 속도차 조회\n",
            "6. 프로그램 이용 종료\n",
            "##############################\n",
            "입력:6\n",
            "프로그램이 종료됩니다.\n"
          ]
        }
      ]
    },
    {
      "cell_type": "code",
      "source": [],
      "metadata": {
        "id": "1618LoKej6uv"
      },
      "execution_count": null,
      "outputs": []
    }
  ]
}