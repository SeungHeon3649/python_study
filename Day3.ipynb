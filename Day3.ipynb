{
  "nbformat": 4,
  "nbformat_minor": 0,
  "metadata": {
    "colab": {
      "provenance": [],
      "authorship_tag": "ABX9TyP8gPARptm/Jp5zG7rJ3uXW",
      "include_colab_link": true
    },
    "kernelspec": {
      "name": "python3",
      "display_name": "Python 3"
    },
    "language_info": {
      "name": "python"
    }
  },
  "cells": [
    {
      "cell_type": "markdown",
      "metadata": {
        "id": "view-in-github",
        "colab_type": "text"
      },
      "source": [
        "<a href=\"https://colab.research.google.com/github/SeungHeon3649/python_study/blob/main/Day3.ipynb\" target=\"_parent\"><img src=\"https://colab.research.google.com/assets/colab-badge.svg\" alt=\"Open In Colab\"/></a>"
      ]
    },
    {
      "cell_type": "markdown",
      "source": [
        "# 파이썬 정의\n",
        "1. 파이썬은 모두 객체다.\n",
        "2. 파이썬에서 공간에 값을 넣으려고 할 때 대상이 없으면 만들고 있으면 갱신한다.\n",
        "3. 파이썬에서 사용시 대상이 있으면 사용 할 수 있고, 없으면 사용 할 수 없다.\n",
        "4. 파이썬에서 사용시 대상이 접근 가능하면 잇다로 취급받고, 접근이 불가능 하면 없다로 취급 받는다.\n",
        "5. 파이썬의 호출은 가까운 것이 우선이다."
      ],
      "metadata": {
        "id": "hLoo6GBGOFsk"
      }
    },
    {
      "cell_type": "code",
      "source": [
        "#def 함수의_이름(매개변수1:매개변수_자료형, 매개변수2:int)->리턴자료형:\n",
        "#   함수도 들여쓰기가 중요 pass\n",
        "#   블록 구문에서 블록이 발생"
      ],
      "metadata": {
        "id": "tdeOEYButRyi"
      },
      "execution_count": 6,
      "outputs": []
    },
    {
      "cell_type": "code",
      "source": [
        "def func():\n",
        "    return #1. 값의 전달, 2. 종료 <1,2은 반드시 만족>"
      ],
      "metadata": {
        "id": "w0nSqRQBt7rz"
      },
      "execution_count": 7,
      "outputs": []
    },
    {
      "cell_type": "code",
      "source": [
        "print(\"안녕하세요\")\n",
        "print(\"안녕하세요\")\n",
        "print(\"안녕하세요\")\n",
        "print(\"안녕하세요\")\n",
        "print(\"안녕하세요\")"
      ],
      "metadata": {
        "colab": {
          "base_uri": "https://localhost:8080/"
        },
        "id": "1TxlvzN4x99v",
        "outputId": "9740247a-b29b-4db6-b7c6-b99c9d81afa9"
      },
      "execution_count": 8,
      "outputs": [
        {
          "output_type": "stream",
          "name": "stdout",
          "text": [
            "안녕하세요\n",
            "안녕하세요\n",
            "안녕하세요\n",
            "안녕하세요\n",
            "안녕하세요\n"
          ]
        }
      ]
    },
    {
      "cell_type": "code",
      "source": [
        "def print_data(문자열):\n",
        "    print(문자열)\n",
        "print_data(\"안녕하세요\")\n",
        "print_data(\"오늘은 금요일\")"
      ],
      "metadata": {
        "colab": {
          "base_uri": "https://localhost:8080/"
        },
        "id": "D4pIhFyRyIdl",
        "outputId": "46f3f349-329d-4b82-ad30-618e3990b9c2"
      },
      "execution_count": 10,
      "outputs": [
        {
          "output_type": "stream",
          "name": "stdout",
          "text": [
            "안녕하세요\n",
            "오늘은 금요일\n"
          ]
        }
      ]
    },
    {
      "cell_type": "markdown",
      "source": [
        "#함수의 매개변수<지역변수>\n",
        "1. 일반_매개변수(이름만 있는 매개변수)\n",
        "2. 기본값_매개변수(기본값을 가지고 있는 매개변수)\n",
        "3. 튜플화_매개변수(연속적으로 값을 받아 튜플로 만들어 사용하는 변수)\n",
        "4. 딕셔너리화_매개변수(키와 값을 입력받아 딕셔너리로 만들어 사용하는 매개변수)\n",
        "\n",
        "매개변수의 값 전달 방식\n",
        "- 순서로 전달 <일반, 기본값, 튜플화>\n",
        "- 명시적 전달 <일반, 기본값, 딕셔너리화>\n",
        "- 전달 방식 종합적 아용 방향 <순서 -> 명시>\n"
      ],
      "metadata": {
        "id": "46GOCYT6-HgU"
      }
    },
    {
      "cell_type": "code",
      "source": [
        "def func(x = 1, y = 1):\n",
        "    return x, y\n",
        "#순서로 전달\n",
        "print(func(10, 10))\n",
        "#명시적 전달\n",
        "print(func(y=10, x=20))"
      ],
      "metadata": {
        "colab": {
          "base_uri": "https://localhost:8080/"
        },
        "id": "_j0ZHIWNyxmX",
        "outputId": "58847618-8e00-4d76-fd8f-3a70beee0fb5"
      },
      "execution_count": 18,
      "outputs": [
        {
          "output_type": "stream",
          "name": "stdout",
          "text": [
            "(10, 10)\n",
            "(20, 10)\n"
          ]
        }
      ]
    },
    {
      "cell_type": "code",
      "source": [
        "func()\n",
        "func(10,10)"
      ],
      "metadata": {
        "colab": {
          "base_uri": "https://localhost:8080/"
        },
        "id": "FiLFRSJ-_Aqg",
        "outputId": "98f93796-b93b-4ec5-bed3-0c306ff9a5ea"
      },
      "execution_count": 20,
      "outputs": [
        {
          "output_type": "execute_result",
          "data": {
            "text/plain": [
              "(10, 10)"
            ]
          },
          "metadata": {},
          "execution_count": 20
        }
      ]
    },
    {
      "cell_type": "code",
      "source": [
        "def func(x, *y): # *y : 튜플 매개변수\n",
        "    return x,y"
      ],
      "metadata": {
        "id": "uAslE73PKxNf"
      },
      "execution_count": 21,
      "outputs": []
    },
    {
      "cell_type": "code",
      "source": [
        "func(1) #빈 튜플이라도 만든다\n",
        "func(1,2)\n",
        "func(1,2,3)"
      ],
      "metadata": {
        "colab": {
          "base_uri": "https://localhost:8080/"
        },
        "id": "6DzqXBPIMNnC",
        "outputId": "6a787181-6205-4116-b176-5dbd1540a53b"
      },
      "execution_count": 25,
      "outputs": [
        {
          "output_type": "execute_result",
          "data": {
            "text/plain": [
              "(1, (2, 3))"
            ]
          },
          "metadata": {},
          "execution_count": 25
        }
      ]
    },
    {
      "cell_type": "code",
      "source": [
        "def func(x, **y):\n",
        "    return x,y"
      ],
      "metadata": {
        "id": "PelgkJICMPaL"
      },
      "execution_count": 26,
      "outputs": []
    },
    {
      "cell_type": "code",
      "source": [
        "func(1)\n",
        "func(y = 10, z = 20, r = 30, x= 5)"
      ],
      "metadata": {
        "colab": {
          "base_uri": "https://localhost:8080/"
        },
        "id": "B4biiZ9DPQbw",
        "outputId": "279a0e2b-934e-4017-dcdb-55987d9cc6b3"
      },
      "execution_count": 40,
      "outputs": [
        {
          "output_type": "execute_result",
          "data": {
            "text/plain": [
              "(5, {'y': 10, 'z': 20, 'r': 30})"
            ]
          },
          "metadata": {},
          "execution_count": 40
        }
      ]
    },
    {
      "cell_type": "markdown",
      "source": [
        "매개변수 4개 조합"
      ],
      "metadata": {
        "id": "u1WPkr_ZRXp4"
      }
    },
    {
      "cell_type": "code",
      "source": [
        "def func(x, y=10, *z, **d):\n",
        "    return x,y,z,d\n",
        "#순서 -> 튜플화까지 입력 가능 단, 딕셔너리화 인자는 입력 불가능\n",
        "func(1)\n",
        "func(1, 2)\n",
        "func(1, 2,3)\n",
        "func(1, 2, 3, 4, 5)\n",
        "\n",
        "#명시적\n",
        "func(x = 1)\n",
        "func(x = 1, y = 2)\n",
        "func(x = 1, y = 2, z = 3, d = 4)\n",
        "\n",
        "#순서, 명시적 공통\n",
        "func(1, 2, 3, d = 4)\n",
        "\n",
        "def func(*z, x, y=10, **d):\n",
        "    return x,y,z,d\n",
        "func(1, 2, 3, d = 4, x = 5, y = 6)"
      ],
      "metadata": {
        "colab": {
          "base_uri": "https://localhost:8080/"
        },
        "id": "nJr1eLI0PR8z",
        "outputId": "d5ea03ca-2c47-4752-d2b9-8960c79cbebf"
      },
      "execution_count": 49,
      "outputs": [
        {
          "output_type": "execute_result",
          "data": {
            "text/plain": [
              "(5, 6, (1, 2, 3), {'d': 4})"
            ]
          },
          "metadata": {},
          "execution_count": 49
        }
      ]
    },
    {
      "cell_type": "markdown",
      "source": [
        "함수의 할당"
      ],
      "metadata": {
        "id": "hIjbIPVEpGX_"
      }
    },
    {
      "cell_type": "code",
      "source": [
        "def str_print_data(x):\n",
        "    print(f\"입력받은 문자 {{{x}}} 출력\")\n",
        "def num_print_data(x):\n",
        "    print(f\"입력받은 숫자 {{{x}}} 출력\") \n",
        "print_data(\"문자\")\n",
        "a = print_data\n",
        "a(\"data\")\n",
        "print_data(\"데이터\")"
      ],
      "metadata": {
        "colab": {
          "base_uri": "https://localhost:8080/"
        },
        "id": "AUV5UOAORn09",
        "outputId": "d422bd11-15e3-4352-9c3f-287dbacdbb98"
      },
      "execution_count": 57,
      "outputs": [
        {
          "output_type": "stream",
          "name": "stdout",
          "text": [
            "입력받은 문자 {문자} 출력\n",
            "입력받은 문자 {data} 출력\n",
            "입력받은 문자 {데이터} 출력\n"
          ]
        }
      ]
    },
    {
      "cell_type": "code",
      "source": [
        "func_list = [str_print_data, num_print_data]\n",
        "# func_list[0] == 글자출력\n",
        "func_list[0](\"데이터\")"
      ],
      "metadata": {
        "colab": {
          "base_uri": "https://localhost:8080/"
        },
        "id": "ZJnIj6aupuM9",
        "outputId": "c8ff1056-401c-4fe7-b440-cc4db678f295"
      },
      "execution_count": 59,
      "outputs": [
        {
          "output_type": "stream",
          "name": "stdout",
          "text": [
            "입력받은 문자 {데이터} 출력\n"
          ]
        }
      ]
    },
    {
      "cell_type": "code",
      "source": [
        "func_list[int(input(f\"\"\"1. 글자출력함수\n",
        "2. 숫자출력 함수\n",
        "{'#'*10}\n",
        "함수 선택(1/2):\"\"\")) -1](\"data\")"
      ],
      "metadata": {
        "colab": {
          "base_uri": "https://localhost:8080/"
        },
        "id": "-YtHTtALrGKb",
        "outputId": "08d735f5-c126-47f8-ed54-e694dc3c9816"
      },
      "execution_count": 63,
      "outputs": [
        {
          "output_type": "stream",
          "name": "stdout",
          "text": [
            "1. 글자출력함수\n",
            "2. 숫자출력 함수\n",
            "##########\n",
            "함수 선택(1/2):2\n",
            "입력받은 숫자 {data} 출력\n"
          ]
        }
      ]
    },
    {
      "cell_type": "code",
      "source": [
        "def f(n):\n",
        "    if n == 1:\n",
        "        return 1\n",
        "    return n + f(n-1)\n",
        "n = 10\n",
        "f(n)"
      ],
      "metadata": {
        "colab": {
          "base_uri": "https://localhost:8080/"
        },
        "id": "bhfetLJCtPuv",
        "outputId": "49d93b8a-dbe4-4f91-e790-75c9b6a17549"
      },
      "execution_count": 64,
      "outputs": [
        {
          "output_type": "execute_result",
          "data": {
            "text/plain": [
              "55"
            ]
          },
          "metadata": {},
          "execution_count": 64
        }
      ]
    },
    {
      "cell_type": "code",
      "source": [
        "a = 10\n",
        "b = a\n",
        "a = 11\n",
        "print(a)\n",
        "print(b)"
      ],
      "metadata": {
        "colab": {
          "base_uri": "https://localhost:8080/"
        },
        "id": "mT4bs8qq3WpI",
        "outputId": "2297eccc-3ac8-4ca1-b42c-071febd192fd"
      },
      "execution_count": 68,
      "outputs": [
        {
          "output_type": "stream",
          "name": "stdout",
          "text": [
            "11\n",
            "10\n"
          ]
        }
      ]
    },
    {
      "cell_type": "markdown",
      "source": [
        "#동적할당 과 정적할당\n",
        "동적할당\n",
        "1. 힙영역에 할당\n",
        "2. 런타임(실행시간) 중에 이루어진다.\n",
        "3. 장점 : 경제적이다.\n",
        "4. 단점 : 더 이상 사용하지 않을 때 명시적으로 메모리를 해제해 주어야 한다.\n",
        "\n",
        "정적할당\n",
        "1. 컴파일로 고정되는 DATA영역에 할당\n",
        "2. 컴파일 타임에 이루어진다.\n",
        "3. 장점 : 실행도중 해제되지 않고, 자동 회수된다.\n",
        "4. 단점 : 메모리 크기를 조절 할 수 없다."
      ],
      "metadata": {
        "id": "foVIHOf7MoE3"
      }
    }
  ]
}