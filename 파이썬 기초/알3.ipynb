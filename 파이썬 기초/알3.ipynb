{
  "nbformat": 4,
  "nbformat_minor": 0,
  "metadata": {
    "colab": {
      "provenance": []
    },
    "kernelspec": {
      "name": "python3",
      "display_name": "Python 3"
    },
    "language_info": {
      "name": "python"
    }
  },
  "cells": [
    {
      "cell_type": "markdown",
      "source": [
        "스택"
      ],
      "metadata": {
        "id": "WAYawHzKUr0s"
      }
    },
    {
      "cell_type": "code",
      "source": [
        "l=[]\n",
        "def 삽입(x):\n",
        "  l.append(x)\n",
        "def 리턴():\n",
        "  return l.pop()\n",
        "l.append(190)\n",
        "l.pop()"
      ],
      "metadata": {
        "id": "JyC9-SBTUtVQ",
        "colab": {
          "base_uri": "https://localhost:8080/"
        },
        "outputId": "475fda78-ec79-4c2c-fb05-72fa098f239c"
      },
      "execution_count": 1,
      "outputs": [
        {
          "output_type": "execute_result",
          "data": {
            "text/plain": [
              "190"
            ]
          },
          "metadata": {},
          "execution_count": 1
        }
      ]
    },
    {
      "cell_type": "code",
      "source": [
        "class 유한_스택:\n",
        "  def __init__(self,n):\n",
        "    self.저장공간=[None for i in range(n)]\n",
        "    self.top=-1\n",
        "  def push(self,x):\n",
        "    if len(self.저장공간)==self.top+1:\n",
        "      print(\"오버플로 발생\")\n",
        "      return\n",
        "    self.top+=1\n",
        "    self.저장공간[self.top]=x\n",
        "\n",
        "  def pop(self):\n",
        "    if self.top==-1:\n",
        "      print(\"언더플로 발생\")\n",
        "      return\n",
        "    out_data=self.저장공간[self.top]\n",
        "    self.저장공간[self.top]=None\n",
        "    self.top-=1\n",
        "    return out_data\n",
        "\n",
        "  def peek(self):\n",
        "    if self.top==-1:\n",
        "      print(\"빈 스택입니다.\")\n",
        "      return\n",
        "    return self.저장공간[self.top]\n",
        "  def 출력(self):\n",
        "    if self.top==-1:\n",
        "      print(\"빈 스택\")\n",
        "      return\n",
        "    print(\"top -> \",end=\"\")\n",
        "    for i in range(self.top,-1,-1):\n",
        "      print(self.저장공간[i],end=\"->\")\n",
        "    else:\n",
        "      print(\"\\b\\b\")\n",
        "st=유한_스택(5)\n",
        "st.push(10)\n",
        "st.push(20)\n",
        "st.push(30)\n",
        "st.push(40)\n",
        "st.push(50)\n",
        "st.출력()\n",
        "st.push(10)\n",
        "st.pop(),st.pop(),st.pop(),st.pop(),st.pop()"
      ],
      "metadata": {
        "colab": {
          "base_uri": "https://localhost:8080/"
        },
        "id": "XXHb-87me4Mp",
        "outputId": "1a4968b8-bf43-47ec-f1f4-8c5f6850ae75"
      },
      "execution_count": 2,
      "outputs": [
        {
          "output_type": "stream",
          "name": "stdout",
          "text": [
            "top -> 50->40->30->20->10->\b\b\n",
            "오버플로 발생\n"
          ]
        },
        {
          "output_type": "execute_result",
          "data": {
            "text/plain": [
              "(50, 40, 30, 20, 10)"
            ]
          },
          "metadata": {},
          "execution_count": 2
        }
      ]
    },
    {
      "cell_type": "code",
      "source": [
        "class 무한스택:\n",
        "  class Node:\n",
        "    def __init__(self,data,link):\n",
        "      self.data=data\n",
        "      self.link=link\n",
        "\n",
        "  def __init__(self):\n",
        "    self.top=None\n",
        "    self.size=0\n",
        "  def push(self,x):\n",
        "    self.top=self.Node(x,self.top)\n",
        "    self.size+=1\n",
        "\n",
        "  def pop(self):\n",
        "    if self.top==None:\n",
        "      print(\"빈 스택\")\n",
        "      return\n",
        "    out_data=self.top.data\n",
        "    self.top=self.top.link\n",
        "    self.size-=1\n",
        "    return out_data\n",
        "\n",
        "  def peek(self):\n",
        "    if self.top==None:\n",
        "      print(\"빈 스택\")\n",
        "      return\n",
        "    return self.top.data\n",
        "\n",
        "  def 출력(self):\n",
        "    if self.top==None:\n",
        "      print(\"빈 스택\")\n",
        "      return\n",
        "    print(\"top ->\",end=\"\")\n",
        "    p=self.top\n",
        "    while p.link:\n",
        "      print(p.data,end=\"->\")\n",
        "      p=p.link\n",
        "    else:\n",
        "      print(p.data)\n",
        "b=무한스택()\n",
        "b.push(10)\n",
        "b.push(20)\n",
        "b.push(30)\n",
        "b.push(40)\n",
        "b.push(50)\n",
        "b.출력()\n",
        "b.pop()\n",
        "b.출력()"
      ],
      "metadata": {
        "colab": {
          "base_uri": "https://localhost:8080/"
        },
        "id": "drBELk5unjFd",
        "outputId": "00b38893-3d03-4fb3-d11b-bee517254c77"
      },
      "execution_count": 3,
      "outputs": [
        {
          "output_type": "stream",
          "name": "stdout",
          "text": [
            "top ->50->40->30->20->10\n",
            "top ->40->30->20->10\n"
          ]
        }
      ]
    },
    {
      "cell_type": "markdown",
      "source": [
        "큐"
      ],
      "metadata": {
        "id": "hr1ybANtUts8"
      }
    },
    {
      "cell_type": "code",
      "source": [
        "l=[]\n",
        "l.append(10)\n",
        "l.pop(0)"
      ],
      "metadata": {
        "id": "Q0cEFxDDUugy",
        "colab": {
          "base_uri": "https://localhost:8080/"
        },
        "outputId": "c0b37e35-284f-406c-f777-e59fa2b80c2f"
      },
      "execution_count": 4,
      "outputs": [
        {
          "output_type": "execute_result",
          "data": {
            "text/plain": [
              "10"
            ]
          },
          "metadata": {},
          "execution_count": 4
        }
      ]
    },
    {
      "cell_type": "markdown",
      "source": [
        "덱"
      ],
      "metadata": {
        "id": "r4u6p1QOUvSS"
      }
    },
    {
      "cell_type": "code",
      "source": [
        "l=[]\n",
        "def 삽입(x,m):\n",
        "  #1. 머리\n",
        "  if m==1:\n",
        "    l.insert(0,x)\n",
        "  #2. 꼬리\n",
        "  elif m==2:\n",
        "    l.append(x)\n",
        "  else:\n",
        "    print(\"m=(1.머리삽입,2.꼬리삽입)만 있습니다.\")\n",
        "def 삭제(x,m):\n",
        "  #1. 머리\n",
        "  if m==1:\n",
        "    l.pop(0)\n",
        "  #2. 꼬리\n",
        "  elif m==2:\n",
        "    l.pop()\n",
        "  else:\n",
        "    print(\"m=(1.머리삭제,2.꼬리삭제)만 있습니다.\")"
      ],
      "metadata": {
        "id": "r_8QH2hpUwPi"
      },
      "execution_count": 5,
      "outputs": []
    },
    {
      "cell_type": "code",
      "source": [
        "from collections import deque\n",
        "d=deque()"
      ],
      "metadata": {
        "id": "boj4RsnrsQhe"
      },
      "execution_count": 6,
      "outputs": []
    },
    {
      "cell_type": "markdown",
      "source": [
        "트리"
      ],
      "metadata": {
        "id": "ZrdVvBNp2jed"
      }
    },
    {
      "cell_type": "code",
      "execution_count": 7,
      "metadata": {
        "id": "jPQtMY7k2gQL"
      },
      "outputs": [],
      "source": [
        "t=[None,1,2,3,4,5,6,7,8,9]"
      ]
    },
    {
      "cell_type": "code",
      "source": [
        "class Node:\n",
        "  def __init__(self,data):\n",
        "    self.data=data\n",
        "    self.l_link=None\n",
        "    self.r_link=None\n",
        "class 이진트리:\n",
        "  def __init__(self):\n",
        "    self.root=None\n",
        "\n",
        "  def 전위순회(self,n):\n",
        "    if n!=None:\n",
        "      #1.출력\n",
        "      print(n.data,end=\" \")\n",
        "      #2.이동(왼)\n",
        "      if n.l_link:\n",
        "        self.전위순회(n.l_link)\n",
        "      #3.이동(오)\n",
        "      if n.r_link:\n",
        "        self.전위순회(n.r_link)\n",
        "\n",
        "  def 중위순회(self,n):\n",
        "    if n!=None:\n",
        "      #1.이동(왼)\n",
        "      if n.l_link:\n",
        "        self.중위순회(n.l_link)\n",
        "      #2.출력\n",
        "      print(n.data,end=\" \")\n",
        "      #3.이동(오)\n",
        "      if n.r_link:\n",
        "        self.중위순회(n.r_link)\n",
        "\n",
        "  def 후위순회(self,n):\n",
        "    if n!=None:\n",
        "      #1.이동(왼)\n",
        "      if n.l_link:\n",
        "        self.후위순회(n.l_link)\n",
        "      #2.이동(오)\n",
        "      if n.r_link:\n",
        "        self.후위순회(n.r_link)\n",
        "      #3.출력\n",
        "      print(n.data,end=\" \")\n",
        "\n",
        "  def 높이(self,n):\n",
        "    if n==None:\n",
        "      return 0\n",
        "    if n==self.root:\n",
        "      return max(self.높이(n.l_link),self.높이(n.r_link))\n",
        "    else:\n",
        "      return max(self.높이(n.l_link),self.높이(n.r_link))+1\n",
        "\n",
        "  def 높이순회(self,n):\n",
        "    qu=[]\n",
        "    qu.append(n)\n",
        "    while qu:\n",
        "      nd=qu.pop(0)\n",
        "      print(nd.data,end=' ')\n",
        "      if nd.l_link:\n",
        "        qu.append(nd.l_link)\n",
        "      if nd.r_link:\n",
        "        qu.append(nd.r_link)"
      ],
      "metadata": {
        "id": "fPYBFW_Nt4D8"
      },
      "execution_count": 8,
      "outputs": []
    },
    {
      "cell_type": "code",
      "source": [
        "n1=Node(1)\n",
        "n2=Node(2)\n",
        "n3=Node(3)\n",
        "n4=Node(4)\n",
        "n5=Node(5)\n",
        "n6=Node(6)\n",
        "n7=Node(7)\n",
        "n8=Node(8)\n",
        "n1.l_link=n2\n",
        "n1.r_link=n3\n",
        "n2.l_link=n4\n",
        "n2.r_link=n5\n",
        "n3.l_link=n6\n",
        "n3.r_link=n7\n",
        "n4.l_link=n8\n",
        "t=이진트리()\n",
        "t.root=n1\n",
        "print(\"전위\")\n",
        "t.전위순회(t.root)\n",
        "print(\"\\n중위\")\n",
        "t.중위순회(t.root)\n",
        "print(\"\\n후위\")\n",
        "t.후위순회(t.root)\n",
        "print(\"\\n높이순회\")\n",
        "t.높이순회(t.root)\n",
        "print(\"\\n높이\")\n",
        "t.높이(t.root)"
      ],
      "metadata": {
        "colab": {
          "base_uri": "https://localhost:8080/"
        },
        "id": "1FFUXcdbyJ6Z",
        "outputId": "b61dd3dc-e18a-4586-ab58-04b3f62351b9"
      },
      "execution_count": 9,
      "outputs": [
        {
          "output_type": "stream",
          "name": "stdout",
          "text": [
            "전위\n",
            "1 2 4 8 5 3 6 7 \n",
            "중위\n",
            "8 4 2 5 1 6 3 7 \n",
            "후위\n",
            "8 4 5 2 6 7 3 1 \n",
            "높이순회\n",
            "1 2 3 4 5 6 7 8 \n",
            "높이\n"
          ]
        },
        {
          "output_type": "execute_result",
          "data": {
            "text/plain": [
              "3"
            ]
          },
          "metadata": {},
          "execution_count": 9
        }
      ]
    },
    {
      "cell_type": "markdown",
      "source": [
        "이진 탐색 트리"
      ],
      "metadata": {
        "id": "9fLM-Kmf7Th-"
      }
    },
    {
      "cell_type": "code",
      "source": [
        "class 이진탐색트리:\n",
        "  class Node:\n",
        "    def __init__(self,key,L=None,R=None):\n",
        "      self.key=key\n",
        "      self.L=L\n",
        "      self.R=R\n",
        "\n",
        "  def __init__(self):\n",
        "    self.root=None\n",
        "\n",
        "  def 삽입(self,key):\n",
        "    self.root=self.삽입_확인(self.root,key)\n",
        "\n",
        "  def 삽입_확인(self,n,key):\n",
        "    if n == None:\n",
        "      n=self.Node(key)\n",
        "    elif n.key > key:\n",
        "      n.L=self.삽입_확인(n.L,key)\n",
        "    elif n.key < key:\n",
        "      n.R=self.삽입_확인(n.R,key)\n",
        "    elif n.key == key:\n",
        "      print(f\"{key}값 있다.\\n삽입 불가\")\n",
        "    return n\n",
        "\n",
        "  def 트리_최소값_찾기(self):\n",
        "    if self.root==None:\n",
        "      return None\n",
        "    return self.최소값_노드_찾기(self.root)\n",
        "\n",
        "  def 최소값_노드_찾기(self,n):\n",
        "    if n.L==None:\n",
        "      return n\n",
        "    return self.최소값_노드_찾기(n.L)\n",
        "\n",
        "  def 최소값_삭제(self,n):\n",
        "    if n.L==None:\n",
        "      return n.R\n",
        "    else:\n",
        "      n.L=self.최소값_삭제(n.L)\n",
        "    return n\n",
        "\n",
        "  def 삭제(self,key):\n",
        "    self.root=self.삭제_확인(self.root,key)\n",
        "\n",
        "  def 삭제_확인(self,n,key):\n",
        "    if n == None:\n",
        "      return\n",
        "    elif n.key == key:\n",
        "      if n.L==None:\n",
        "        return n.R\n",
        "      if n.R==None:\n",
        "        return n.L\n",
        "      t=n\n",
        "      n=self.최소값_노드_찾기(t.R)\n",
        "      n.R=self.최소값_삭제(t.R)\n",
        "      n.L=t.L\n",
        "    elif n.key > key:\n",
        "      n.L=self.삭제_확인(n.L,key)\n",
        "    elif n.key < key:\n",
        "      n.R=self.삭제_확인(n.R,key)\n",
        "    return n\n",
        "  def 전위순회(self,n):\n",
        "    if n!=None:\n",
        "      #1.출력\n",
        "      print(n.key,end=\" \")\n",
        "      #2.이동(왼)\n",
        "      self.전위순회(n.L)\n",
        "      #3.이동(오)\n",
        "      self.전위순회(n.R)\n",
        "\n",
        "  def 중위순회(self,n):\n",
        "    if n!=None:\n",
        "      #1.이동(왼)\n",
        "      self.중위순회(n.L)\n",
        "      #2.출력\n",
        "      print(n.key,end=\" \")\n",
        "      #3.이동(오)\n",
        "      self.중위순회(n.R)\n",
        "\n",
        "  def 후위순회(self,n):\n",
        "    if n!=None:\n",
        "      #1.이동(왼)\n",
        "      self.후위순회(n.L)\n",
        "      #2.이동(오)\n",
        "      self.후위순회(n.R)\n",
        "      #3.출력\n",
        "      print(n.key,end=\" \")"
      ],
      "metadata": {
        "id": "xGW-rsa07VSF"
      },
      "execution_count": 19,
      "outputs": []
    }
  ]
}