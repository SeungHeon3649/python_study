{
  "nbformat": 4,
  "nbformat_minor": 0,
  "metadata": {
    "colab": {
      "provenance": []
    },
    "kernelspec": {
      "name": "python3",
      "display_name": "Python 3"
    },
    "language_info": {
      "name": "python"
    }
  },
  "cells": [
    {
      "cell_type": "markdown",
      "source": [
        "#정렬\n",
        " - 값을 오름/내림 으로 정렬"
      ],
      "metadata": {
        "id": "7ikWqGr248Ra"
      }
    },
    {
      "cell_type": "markdown",
      "source": [
        "버블"
      ],
      "metadata": {
        "id": "60iL3Uf45VEI"
      }
    },
    {
      "cell_type": "code",
      "source": [
        "l=[1,3,65,3,2,5,78]\n",
        "for i in range(len(l)-1):\n",
        "  print(i,end=' ')\n",
        "print()\n",
        "for i in range(1,len(l)):\n",
        "  print(i,end=' ')"
      ],
      "metadata": {
        "colab": {
          "base_uri": "https://localhost:8080/"
        },
        "id": "uh0skL1K48Gh",
        "outputId": "5e0bd29e-d0e6-4fde-aea4-e376a90399c6"
      },
      "execution_count": null,
      "outputs": [
        {
          "output_type": "stream",
          "name": "stdout",
          "text": [
            "0 1 2 3 4 5 \n",
            "1 2 3 4 5 6 "
          ]
        }
      ]
    },
    {
      "cell_type": "code",
      "execution_count": null,
      "metadata": {
        "colab": {
          "base_uri": "https://localhost:8080/"
        },
        "id": "cBshDhwSX672",
        "outputId": "dbe80325-c897-4675-e2f7-416d7f1b278b"
      },
      "outputs": [
        {
          "output_type": "execute_result",
          "data": {
            "text/plain": [
              "(10, 20)"
            ]
          },
          "metadata": {},
          "execution_count": 9
        }
      ],
      "source": [
        "a=10\n",
        "b=20\n",
        "a,b"
      ]
    },
    {
      "cell_type": "code",
      "source": [
        "b=a\n",
        "a=b\n",
        "a,b"
      ],
      "metadata": {
        "colab": {
          "base_uri": "https://localhost:8080/"
        },
        "id": "uEL9YRpE6Lrv",
        "outputId": "4f6718e6-fa24-4015-92b5-df938e16f7e3"
      },
      "execution_count": null,
      "outputs": [
        {
          "output_type": "execute_result",
          "data": {
            "text/plain": [
              "(10, 10)"
            ]
          },
          "metadata": {},
          "execution_count": 8
        }
      ]
    },
    {
      "cell_type": "code",
      "source": [
        "x=10\n",
        "y=20\n",
        "print(x,y)\n",
        "def sp():\n",
        "  global x\n",
        "  global y\n",
        "  t=x\n",
        "  x=y\n",
        "  y=t\n",
        "sp()\n",
        "print(x,y)"
      ],
      "metadata": {
        "colab": {
          "base_uri": "https://localhost:8080/"
        },
        "id": "a3ZAzYGo6SEW",
        "outputId": "aef30399-b7e5-420d-f887-a2fbe4d51d1c"
      },
      "execution_count": null,
      "outputs": [
        {
          "output_type": "stream",
          "name": "stdout",
          "text": [
            "10 20\n",
            "20 10\n"
          ]
        }
      ]
    },
    {
      "cell_type": "code",
      "source": [
        "a=10\n",
        "b=20\n",
        "print(a,b)\n",
        "b,a = a,b\n",
        "print(a,b)"
      ],
      "metadata": {
        "colab": {
          "base_uri": "https://localhost:8080/"
        },
        "id": "v4yk6i0t6m-u",
        "outputId": "9301bb1f-9ba9-482c-c90b-c8354a001a53"
      },
      "execution_count": null,
      "outputs": [
        {
          "output_type": "stream",
          "name": "stdout",
          "text": [
            "10 20\n",
            "20 10\n"
          ]
        }
      ]
    },
    {
      "cell_type": "code",
      "source": [
        "l=[1,3,65,3,2,5,78]\n",
        "l"
      ],
      "metadata": {
        "colab": {
          "base_uri": "https://localhost:8080/"
        },
        "id": "g2Tb73lA9lOr",
        "outputId": "29c598f7-6ce2-46a2-8189-baa70383e28d"
      },
      "execution_count": null,
      "outputs": [
        {
          "output_type": "execute_result",
          "data": {
            "text/plain": [
              "[1, 3, 65, 3, 2, 5, 78]"
            ]
          },
          "metadata": {},
          "execution_count": 39
        }
      ]
    },
    {
      "cell_type": "code",
      "source": [
        "l=[1,3,65,3,2,5,78]\n",
        "ck=0\n",
        "for j in range(1,len(l)):\n",
        "  for i in range(len(l)-1):\n",
        "    ck+=1\n",
        "    if l[i]<l[i+1]:\n",
        "      #인접교환\n",
        "      l[i],l[i+1]=l[i+1],l[i]\n",
        "      print(l)\n",
        "print(f\"완성:{l},시간:{ck}\")"
      ],
      "metadata": {
        "colab": {
          "base_uri": "https://localhost:8080/"
        },
        "id": "EzTq9sSq_fqd",
        "outputId": "dd811e58-c3cf-4b8e-c057-b93627cadafd"
      },
      "execution_count": null,
      "outputs": [
        {
          "output_type": "stream",
          "name": "stdout",
          "text": [
            "[3, 1, 65, 3, 2, 5, 78]\n",
            "[3, 65, 1, 3, 2, 5, 78]\n",
            "[3, 65, 3, 1, 2, 5, 78]\n",
            "[3, 65, 3, 2, 1, 5, 78]\n",
            "[3, 65, 3, 2, 5, 1, 78]\n",
            "[3, 65, 3, 2, 5, 78, 1]\n",
            "[65, 3, 3, 2, 5, 78, 1]\n",
            "[65, 3, 3, 5, 2, 78, 1]\n",
            "[65, 3, 3, 5, 78, 2, 1]\n",
            "[65, 3, 5, 3, 78, 2, 1]\n",
            "[65, 3, 5, 78, 3, 2, 1]\n",
            "[65, 5, 3, 78, 3, 2, 1]\n",
            "[65, 5, 78, 3, 3, 2, 1]\n",
            "[65, 78, 5, 3, 3, 2, 1]\n",
            "[78, 65, 5, 3, 3, 2, 1]\n",
            "완성:[78, 65, 5, 3, 3, 2, 1],시간:36\n"
          ]
        }
      ]
    },
    {
      "cell_type": "code",
      "source": [
        "l=[1,3,65,3,100,2,5,78]\n",
        "ck=0\n",
        "n=len(l)\n",
        "for j in range(1,n):\n",
        "  for i in range(n-j):\n",
        "    ck+=1\n",
        "    if l[i]<l[i+1]:\n",
        "      #인접교환\n",
        "      l[i],l[i+1]=l[i+1],l[i]\n",
        "      print(l)\n",
        "print(f\"완성:{l},시간:{ck}\")"
      ],
      "metadata": {
        "id": "2iO7oK-a9bqe"
      },
      "execution_count": null,
      "outputs": []
    },
    {
      "cell_type": "code",
      "source": [
        "def bubble_sort(in_l,조건=1):\n",
        "  l=in_l[:]\n",
        "  l_n=len(l)\n",
        "  for 이동 in range(1,l_n):\n",
        "    for idx in range(l_n-이동):\n",
        "      #조건:1 오름차순,조건:2 내림\n",
        "      if 조건==1:\n",
        "        if l[idx]>l[idx+1]:\n",
        "          l[idx],l[idx+1]=l[idx+1],l[idx]\n",
        "          print(\"교환\",end=' ')\n",
        "        else:\n",
        "          print(\"이동\",end=' ')\n",
        "    print(이동)\n",
        "  return l"
      ],
      "metadata": {
        "id": "CLpVvDF7AY1y"
      },
      "execution_count": null,
      "outputs": []
    },
    {
      "cell_type": "code",
      "source": [
        "bubble_sort(l)"
      ],
      "metadata": {
        "colab": {
          "base_uri": "https://localhost:8080/"
        },
        "id": "ppe1iYU_KDfw",
        "outputId": "c9f392a6-19d4-45ca-db4a-cb6a8a4b2d0f"
      },
      "execution_count": null,
      "outputs": [
        {
          "output_type": "stream",
          "name": "stdout",
          "text": [
            "이동 이동 교환 교환 교환 이동 1\n",
            "이동 이동 교환 이동 이동 2\n",
            "이동 교환 이동 이동 3\n",
            "이동 이동 이동 4\n",
            "이동 이동 5\n",
            "이동 6\n"
          ]
        },
        {
          "output_type": "execute_result",
          "data": {
            "text/plain": [
              "[1, 2, 3, 3, 5, 65, 78]"
            ]
          },
          "metadata": {},
          "execution_count": 67
        }
      ]
    },
    {
      "cell_type": "code",
      "source": [
        "l2=[1,3,65,3,2,5,78]\n",
        "bubble_sort(l2)"
      ],
      "metadata": {
        "colab": {
          "base_uri": "https://localhost:8080/"
        },
        "id": "7Hmqlo95MNhT",
        "outputId": "b78cb83f-8f3d-4f23-8938-570639e27498"
      },
      "execution_count": null,
      "outputs": [
        {
          "output_type": "stream",
          "name": "stdout",
          "text": [
            "이동 이동 교환 교환 교환 이동 1\n",
            "이동 이동 교환 이동 이동 2\n",
            "이동 교환 이동 이동 3\n",
            "이동 이동 이동 4\n",
            "이동 이동 5\n",
            "이동 6\n"
          ]
        },
        {
          "output_type": "execute_result",
          "data": {
            "text/plain": [
              "[1, 2, 3, 3, 5, 65, 78]"
            ]
          },
          "metadata": {},
          "execution_count": 61
        }
      ]
    },
    {
      "cell_type": "code",
      "source": [
        "l=[1,2,3]\n",
        "l[-4+1]"
      ],
      "metadata": {
        "colab": {
          "base_uri": "https://localhost:8080/"
        },
        "id": "gKyk9bRKkJ7W",
        "outputId": "11b350c8-7a89-4ef6-9ce6-611eb9652e96"
      },
      "execution_count": null,
      "outputs": [
        {
          "output_type": "execute_result",
          "data": {
            "text/plain": [
              "1"
            ]
          },
          "metadata": {},
          "execution_count": 88
        }
      ]
    },
    {
      "cell_type": "code",
      "source": [
        "l=[1,2,3]\n",
        "l.insert(-3,20)\n",
        "l"
      ],
      "metadata": {
        "id": "xBy8mATCimtg"
      },
      "execution_count": null,
      "outputs": []
    },
    {
      "cell_type": "code",
      "source": [
        "l=[1,65,3,7,2,3]\n",
        "n=len(l)\n",
        "for i in range(1,n):\n",
        "  삽입값=l[i]\n",
        "  비교값_i=i-1\n",
        "  while 비교값_i>=0 and l[비교값_i]>삽입값:\n",
        "    l[비교값_i+1]=l[비교값_i]\n",
        "    비교값_i-=1\n",
        "  l[비교값_i+1]=삽입값\n",
        "l"
      ],
      "metadata": {
        "colab": {
          "base_uri": "https://localhost:8080/"
        },
        "id": "q_3HRbZMtrUz",
        "outputId": "467f0648-750c-44c3-f3d5-2baab23be679"
      },
      "execution_count": null,
      "outputs": [
        {
          "output_type": "execute_result",
          "data": {
            "text/plain": [
              "[1, 2, 3, 3, 7, 65]"
            ]
          },
          "metadata": {},
          "execution_count": 130
        }
      ]
    },
    {
      "cell_type": "code",
      "source": [
        "def ins_sort(in_l):\n",
        "  l=in_l[:]\n",
        "  n=len(l)\n",
        "  for i in range(1,n):\n",
        "    삽입값=l[i]\n",
        "    비교값_i=i-1\n",
        "    while 비교값_i>=0 and l[비교값_i]>삽입값:\n",
        "      l[비교값_i+1]=l[비교값_i]\n",
        "      비교값_i-=1\n",
        "    l[비교값_i+1]=삽입값\n",
        "  return l\n",
        "l=[1,65,3,7,2,3]\n",
        "print(l)\n",
        "print(ins_sort(l))"
      ],
      "metadata": {
        "colab": {
          "base_uri": "https://localhost:8080/"
        },
        "id": "XQ9Bn7pLwiqk",
        "outputId": "a744eed4-acd5-4e5c-ccfa-672985e79937"
      },
      "execution_count": null,
      "outputs": [
        {
          "output_type": "stream",
          "name": "stdout",
          "text": [
            "[1, 65, 3, 7, 2, 3]\n",
            "[1, 2, 3, 3, 7, 65]\n"
          ]
        }
      ]
    },
    {
      "cell_type": "markdown",
      "source": [
        "선택정렬"
      ],
      "metadata": {
        "id": "7rJSVJvftq8M"
      }
    },
    {
      "cell_type": "code",
      "source": [
        "최고점=max(l)\n",
        "최저점=min(l)\n",
        "l,최고점,최저점"
      ],
      "metadata": {
        "colab": {
          "base_uri": "https://localhost:8080/"
        },
        "id": "q9yMdrFSxgd-",
        "outputId": "09389d97-25e5-40b0-eab5-daafd3cbed2b"
      },
      "execution_count": null,
      "outputs": [
        {
          "output_type": "execute_result",
          "data": {
            "text/plain": [
              "([1, 65, 3, 7, 2, 3], 65, 1)"
            ]
          },
          "metadata": {},
          "execution_count": 137
        }
      ]
    },
    {
      "cell_type": "code",
      "source": [
        "l=[1, 65, 3, 7, 2, 3]\n",
        "print(l)\n",
        "for i in range(len(l)):\n",
        "  최고점=max(l[i:])\n",
        "  print(최고점)\n",
        "  l.remove(최고점)\n",
        "  l.insert(i,최고점)\n",
        "l"
      ],
      "metadata": {
        "id": "drPjVFQ2yGWc"
      },
      "execution_count": null,
      "outputs": []
    },
    {
      "cell_type": "code",
      "source": [
        "l=[1, 65, 3, 7, 2, 3]"
      ],
      "metadata": {
        "id": "ZFkJ6EkKyiLF"
      },
      "execution_count": null,
      "outputs": []
    },
    {
      "cell_type": "code",
      "source": [
        "최고점=max(l[2:])\n",
        "print(최고점)\n",
        "l.insert(2,l.pop(l.index(최고점)))\n",
        "l"
      ],
      "metadata": {
        "colab": {
          "base_uri": "https://localhost:8080/"
        },
        "id": "X9JMBR4m1YxW",
        "outputId": "8ef298a2-5aad-4aa4-8f40-10c0626fc024"
      },
      "execution_count": null,
      "outputs": [
        {
          "output_type": "stream",
          "name": "stdout",
          "text": [
            "3\n"
          ]
        },
        {
          "output_type": "execute_result",
          "data": {
            "text/plain": [
              "[65, 7, 3, 1, 2, 3]"
            ]
          },
          "metadata": {},
          "execution_count": 174
        }
      ]
    },
    {
      "cell_type": "code",
      "source": [
        "l=[1, 65, 3, 7, 2, 3]\n",
        "for i in range(0,n-1):\n",
        "  min_idx=i\n",
        "  for j in range(1+i,n):\n"
      ],
      "metadata": {
        "id": "lhCNRCnr2mrV"
      },
      "execution_count": null,
      "outputs": []
    },
    {
      "cell_type": "code",
      "source": [
        "입력데이터=[1, 65, 3, 7, 2, 3]\n",
        "정렬결과=[]"
      ],
      "metadata": {
        "id": "0VVj0mNE4iWU"
      },
      "execution_count": null,
      "outputs": []
    },
    {
      "cell_type": "code",
      "source": [
        "while 입력데이터:\n",
        "  max_v=0\n",
        "  #최고값 찾기\n",
        "  n=0\n",
        "  for i in range(len(입력데이터)):#입력 데이터 만큼 동작\n",
        "    if max_v<=입력데이터[i]:#i 번째 값과 최대값 비교(i번째 값이 최대값일때)\n",
        "      max_v=입력데이터[i]\n",
        "      n=i\n",
        "  print(max_v,n)#입력데이터중 가장큰값 큰값의 인덱스\n",
        "  최대값=입력데이터.pop(n)#입력 데이터에서 최대값 제거\n",
        "  #삽입\n",
        "  정렬결과.append(최대값)\n",
        "정렬결과"
      ],
      "metadata": {
        "id": "ai8P8FRc2qJP",
        "colab": {
          "base_uri": "https://localhost:8080/"
        },
        "outputId": "7e48eeea-da62-483e-931f-7abb6e31b071"
      },
      "execution_count": null,
      "outputs": [
        {
          "output_type": "execute_result",
          "data": {
            "text/plain": [
              "[1, 2, 3, 3, 7, 65]"
            ]
          },
          "metadata": {},
          "execution_count": 32
        }
      ]
    },
    {
      "cell_type": "markdown",
      "source": [
        "삽입/선택/버블"
      ],
      "metadata": {
        "id": "FWpKpKy98BYW"
      }
    },
    {
      "cell_type": "markdown",
      "source": [
        "삽입 정렬 - 0에서 접근"
      ],
      "metadata": {
        "id": "cMoVJ8AI9Pl1"
      }
    },
    {
      "cell_type": "code",
      "source": [
        "입력데이터=[1, 65, 3, 7, 2, 3]\n",
        "정렬결과=[]\n",
        "모드=0\n",
        "#1. 원소추출\n",
        "while 입력데이터:\n",
        "  추출값 = 입력데이터.pop(0)\n",
        "  n=0\n",
        "#2. 비교\n",
        "  while True:\n",
        "    if len(정렬결과)==n:\n",
        "      비교자리=n\n",
        "      break\n",
        "    elif 모드==0 and 정렬결과[n]>추출값:\n",
        "      비교자리=n\n",
        "      break\n",
        "    elif 모드==1 and 정렬결과[n]<추출값:\n",
        "      비교자리=n\n",
        "      break\n",
        "    else:\n",
        "      n+=1\n",
        "#3. 원소 삽입\n",
        "  정렬결과.insert(비교자리,추출값)\n",
        "정렬결과"
      ],
      "metadata": {
        "colab": {
          "base_uri": "https://localhost:8080/"
        },
        "id": "Xx82CzHzLQZK",
        "outputId": "9c096173-4940-43b9-ad08-cb91d413af7e"
      },
      "execution_count": null,
      "outputs": [
        {
          "output_type": "execute_result",
          "data": {
            "text/plain": [
              "[1, 2, 3, 3, 7, 65]"
            ]
          },
          "metadata": {},
          "execution_count": 25
        }
      ]
    },
    {
      "cell_type": "markdown",
      "source": [
        "삽입 정렬 - -1에서 접근"
      ],
      "metadata": {
        "id": "lyQP6jk__Alo"
      }
    },
    {
      "cell_type": "code",
      "source": [
        "입력데이터=[1, 65, 3, 7, 2, 3]\n",
        "정렬결과=[]\n",
        "모드=0\n",
        "#1. 원소추출\n",
        "while 입력데이터:\n",
        "  추출값 = 입력데이터.pop(0)\n",
        "  n=len(정렬결과)-1\n",
        "#2. 비교\n",
        "  while True:\n",
        "    if len(정렬결과)==0 or n==-1:\n",
        "      비교자리=0\n",
        "      break\n",
        "    elif 모드==0 and 정렬결과[n]<추출값:\n",
        "      비교자리=n+1\n",
        "      break\n",
        "    elif 모드==1 and 정렬결과[n]>추출값:\n",
        "      비교자리=n+1\n",
        "      break\n",
        "    else:\n",
        "      n-=1\n",
        "#3. 원소 삽입\n",
        "  정렬결과.insert(비교자리,추출값)\n",
        "정렬결과"
      ],
      "metadata": {
        "colab": {
          "base_uri": "https://localhost:8080/"
        },
        "id": "qoLCBVz9M3LB",
        "outputId": "50672f0d-6fc0-4392-dd6b-315f4f0d4f47"
      },
      "execution_count": null,
      "outputs": [
        {
          "output_type": "execute_result",
          "data": {
            "text/plain": [
              "[1, 2, 3, 3, 7, 65]"
            ]
          },
          "metadata": {},
          "execution_count": 24
        }
      ]
    },
    {
      "cell_type": "markdown",
      "source": [
        "선택정렬"
      ],
      "metadata": {
        "id": "XRG9L8nH-uIU"
      }
    },
    {
      "cell_type": "code",
      "source": [
        "입력데이터=[1, 65, 3, 7, 2, 3]\n",
        "정렬결과=[]\n",
        "모드=0\n",
        "#선택\n",
        "#1. 비교\n",
        "while 입력데이터:\n",
        "  기준값=입력데이터[0]\n",
        "  비교자리=0\n",
        "  for i in range(len(입력데이터)):\n",
        "    if 모드==0 and 기준값>입력데이터[i]:\n",
        "      기준값=입력데이터[i]\n",
        "      비교자리=i\n",
        "    elif 모드==1 and 기준값<입력데이터[i]:\n",
        "      기준값=입력데이터[i]\n",
        "      비교자리=i\n",
        "#2. 원소 추출\n",
        "  추출값=입력데이터.pop(비교자리)\n",
        "#3. 원소 삽입\n",
        "  정렬결과.append(추출값)\n",
        "정렬결과"
      ],
      "metadata": {
        "id": "MjuzAnEj9YLB",
        "colab": {
          "base_uri": "https://localhost:8080/"
        },
        "outputId": "fa2ccdbe-cfd4-42c8-ff82-9e3c9f12ba14"
      },
      "execution_count": null,
      "outputs": [
        {
          "output_type": "execute_result",
          "data": {
            "text/plain": [
              "[1, 2, 3, 3, 7, 65]"
            ]
          },
          "metadata": {},
          "execution_count": 26
        }
      ]
    },
    {
      "cell_type": "markdown",
      "source": [
        "버블정렬"
      ],
      "metadata": {
        "id": "EFN4O5Ha-xBl"
      }
    },
    {
      "cell_type": "code",
      "source": [
        "입력데이터=[1, 65, 3, 7, 2, 3]\n",
        "정렬결과=[]\n",
        "모드=0\n",
        "#버블\n",
        "#1. 비교\n",
        "while 입력데이터:\n",
        "  for i in range(len(입력데이터)-1):\n",
        "#2. 이동/교체\n",
        "    if 모드==0 and 입력데이터[i] <입력데이터[i+1]:\n",
        "      입력데이터[i],입력데이터[i+1]=입력데이터[i+1],입력데이터[i]\n",
        "    elif 모드==1 and 입력데이터[i] >입력데이터[i+1]:\n",
        "      입력데이터[i],입력데이터[i+1]=입력데이터[i+1],입력데이터[i]\n",
        "#3. 원소추출\n",
        "  추출값=입력데이터.pop()\n",
        "#4. 원소 삽입\n",
        "  정렬결과.append(추출값)\n",
        "정렬결과"
      ],
      "metadata": {
        "id": "Vmqt4mX49g4C",
        "colab": {
          "base_uri": "https://localhost:8080/"
        },
        "outputId": "d4cd6041-093c-4a4b-f17b-6b462445ab24"
      },
      "execution_count": null,
      "outputs": [
        {
          "output_type": "execute_result",
          "data": {
            "text/plain": [
              "[1, 2, 3, 3, 7, 65]"
            ]
          },
          "metadata": {},
          "execution_count": 31
        }
      ]
    }
  ]
}