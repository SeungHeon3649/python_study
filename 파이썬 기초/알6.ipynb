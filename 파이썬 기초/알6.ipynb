{
  "nbformat": 4,
  "nbformat_minor": 0,
  "metadata": {
    "colab": {
      "provenance": []
    },
    "kernelspec": {
      "name": "python3",
      "display_name": "Python 3"
    },
    "language_info": {
      "name": "python"
    }
  },
  "cells": [
    {
      "cell_type": "code",
      "source": [
        "def 삽입_정렬(입력데이터_in,모드=0):\n",
        "  입력데이터=입력데이터_in[:]\n",
        "  정렬결과=[]\n",
        "  #1. 원소추출\n",
        "  while 입력데이터:\n",
        "    추출값 = 입력데이터.pop(0)\n",
        "    n=len(정렬결과)-1\n",
        "  #2. 비교\n",
        "    while True:\n",
        "      if len(정렬결과)==0 or n==-1:\n",
        "        비교자리=0\n",
        "        break\n",
        "      elif 모드==0 and 정렬결과[n]<추출값:\n",
        "        비교자리=n+1\n",
        "        break\n",
        "      elif 모드==1 and 정렬결과[n]>추출값:\n",
        "        비교자리=n+1\n",
        "        break\n",
        "      else:\n",
        "        n-=1\n",
        "  #3. 원소 삽입\n",
        "    정렬결과.insert(비교자리,추출값)\n",
        "  return 정렬결과\n",
        "def 쉘(l,h):\n",
        "  #분할\n",
        "  ck_a=[[]for i in range(h)]\n",
        "  for i in range(len(ck_a)):\n",
        "    st=i\n",
        "    add_idx=st\n",
        "    while add_idx<len(l):\n",
        "      ck_a[i].append(l[add_idx])\n",
        "      add_idx+=h\n",
        "    ck_a[i]=삽입정렬(ck_a[i])\n",
        "#삽입\n",
        "  end_l=[None for _ in range(len(l))]\n",
        "  for i in range(len(ck_a)):\n",
        "    for j in range(len(ck_a[i])):\n",
        "      idx=i+(h*j)\n",
        "      end_l[idx]=ck_a[i][j]\n",
        "  h//=2\n",
        "  return  end_l,h\n",
        "\n",
        "def 쉘_정렬(l,h):\n",
        "  l,h=쉘(l,h)\n",
        "  while True:\n",
        "    if h!=1:\n",
        "      l,h=쉘(l,h)\n",
        "    else:\n",
        "      return 삽입정렬(l)\n",
        "def 쉘_정렬2(in_l):\n",
        "  l=in_l[:]\n",
        "  h=1\n",
        "  while h<len(l):\n",
        "    h=3*h+1\n",
        "  h //=3\n",
        "  while h>=1:\n",
        "    for i in range(h,len(l)):\n",
        "      j=i\n",
        "      while j>=h and l[j]<l[j-h]:\n",
        "        l[j],l[j-h]=l[j-h],l[j]\n",
        "        j-=h\n",
        "    h//=3\n",
        "  return l\n",
        "def 퀵_정렬(in_l):\n",
        "  n=len(in_l)\n",
        "  if n<=1:\n",
        "    return in_l\n",
        "  pivot=in_l[-1]\n",
        "  g1=[]\n",
        "  g2=[]\n",
        "  for i in range(0,n-1):\n",
        "    if in_l[i]<pivot:\n",
        "      g1.append(in_l[i])\n",
        "    else:\n",
        "      g2.append(in_l[i])\n",
        "  return 퀵_정렬(g1) + [pivot] + 퀵_정렬(g2)\n",
        "\n",
        "def 병합_정렬(in_l):\n",
        "  n=len(in_l)\n",
        "  if n<=1:\n",
        "    return in_l\n",
        "  mid=n//2\n",
        "  g1=in_l[:mid]\n",
        "  g2=in_l[mid:]\n",
        "  out_l=[]\n",
        "  g1=병합_정렬(g1)\n",
        "  g2=병합_정렬(g2)\n",
        "\n",
        "  while g1 and g2:\n",
        "    if g1[0] < g2[0]:\n",
        "      out_l.append(g1.pop(0))\n",
        "    else:\n",
        "      out_l.append(g2.pop(0))\n",
        "  while g1:\n",
        "    out_l.append(g1.pop(0))\n",
        "  while g2:\n",
        "    out_l.append(g2.pop(0))\n",
        "\n",
        "  return out_l\n",
        "def 삽입_추출(in_l,d_idx,base=10):\n",
        "  buckets=[[]for _ in range(base)]\n",
        "  for n in in_l:\n",
        "    d=(n // base**d_idx)% base\n",
        "    buckets[d].append(n)\n",
        "\n",
        "  out_l=[]\n",
        "  for b in buckets:\n",
        "    for i in b:\n",
        "      out_l.append(i)\n",
        "  return out_l\n",
        "\n",
        "def 기수_정렬(in_l):\n",
        "  l=in_l[:]\n",
        "  max_v=max(l)\n",
        "  max_d_idx=len(str(max_v))\n",
        "  for i in range(max_d_idx):\n",
        "    l=삽입_추출(l,i,10)\n",
        "  return l\n",
        "class 정렬_이진탐색트리:\n",
        "\n",
        "  class Node:\n",
        "    def __init__(self,key,L=None,R=None):\n",
        "      self.key=key\n",
        "      self.L=L\n",
        "      self.R=R\n",
        "\n",
        "  def __init__(self):\n",
        "    self.root=None\n",
        "    self.정렬된리스트=[]\n",
        "\n",
        "  def 삽입(self,key):\n",
        "    self.root=self.삽입_확인(self.root,key)\n",
        "\n",
        "  def 삽입_확인(self,n,key):\n",
        "    if n == None:\n",
        "      n=self.Node(key)\n",
        "    elif n.key > key:\n",
        "      n.L=self.삽입_확인(n.L,key)\n",
        "    elif n.key < key:\n",
        "      n.R=self.삽입_확인(n.R,key)\n",
        "    elif n.key == key:\n",
        "      #print(f\"{key}값 있다.\\n삽입 불가\")\n",
        "      pass\n",
        "    return n\n",
        "\n",
        "  def 전위순회(self,n):\n",
        "    if n!=None:\n",
        "      #1.출력\n",
        "      print(n.key,end=\" \")\n",
        "      #2.이동(왼)\n",
        "      self.전위순회(n.L)\n",
        "      #3.이동(오)\n",
        "      self.전위순회(n.R)\n",
        "\n",
        "  def 중위순회(self,n):\n",
        "    if n!=None:\n",
        "      #1.이동(왼)\n",
        "      self.중위순회(n.L)\n",
        "      #2.출력\n",
        "      print(n.key,end=\" \")\n",
        "      #3.이동(오)\n",
        "      self.중위순회(n.R)\n",
        "\n",
        "  def 후위순회(self,n):\n",
        "    if n!=None:\n",
        "      #1.이동(왼)\n",
        "      self.후위순회(n.L)\n",
        "      #2.이동(오)\n",
        "      self.후위순회(n.R)\n",
        "      #3.출력\n",
        "      print(n.key,end=\" \")\n",
        "\n",
        "  def 정렬_중위순회(self,n):\n",
        "    if n!=None:\n",
        "      #1.이동(왼)\n",
        "      self.정렬_중위순회(n.L)\n",
        "      #2.출력\n",
        "      #print(n.key,end=\" \")\n",
        "      self.정렬된리스트.append(n.key)\n",
        "      #3.이동(오)\n",
        "      self.정렬_중위순회(n.R)"
      ],
      "metadata": {
        "id": "2TXyBpKASq6k"
      },
      "execution_count": null,
      "outputs": []
    },
    {
      "cell_type": "markdown",
      "source": [
        "힙/트리"
      ],
      "metadata": {
        "id": "_0ejc92uR04I"
      }
    },
    {
      "cell_type": "code",
      "execution_count": null,
      "metadata": {
        "colab": {
          "base_uri": "https://localhost:8080/"
        },
        "id": "FAmNBBD7RxD8",
        "outputId": "4280d1fa-8df6-4c89-893d-869391d0576a"
      },
      "outputs": [
        {
          "output_type": "stream",
          "name": "stdout",
          "text": [
            "[1, 1, 2, 3, 5, 2, 2, 6, 3, 5, 8, 3, 6, 4, 4, 7, 7, 7, 4]\n",
            "[]\n",
            "[1, 1, 2, 2, 2, 3, 3, 3, 4, 4, 4, 5, 5, 6, 6, 7, 7, 7, 8]\n"
          ]
        }
      ],
      "source": [
        "import heapq\n",
        "l=[1,7,2,4,5,2,4,7,3,5,8,3,6,4,2,7,6,3,1]\n",
        "heapq.heapify(l)\n",
        "out_l=[]\n",
        "print(l)\n",
        "for i in range(len(l)):\n",
        "  out_l.append(heapq.heappop(l))\n",
        "print(l)\n",
        "print(out_l)"
      ]
    },
    {
      "cell_type": "code",
      "source": [
        "import heapq\n",
        "def 힙_정렬(in_l,모드=0):\n",
        "  l=in_l[:]\n",
        "  heapq.heapify(l)\n",
        "  out_l=[]\n",
        "  for i in range(len(l)):\n",
        "    if 모드==0:\n",
        "      out_l.append(heapq.heappop(l))\n",
        "    else:\n",
        "      out_l.insert(0,heapq.heappop(l))\n",
        "\n",
        "  return out_l\n",
        "l=[1,7,2,4,5,2,4,7,3,5,8,3,6,4,2,7,6,3,1]\n",
        "힙_정렬(l)\n",
        "l"
      ],
      "metadata": {
        "colab": {
          "base_uri": "https://localhost:8080/"
        },
        "id": "pNBwy8m6XrTw",
        "outputId": "88c514bc-f015-4df5-823e-115d3518c92f"
      },
      "execution_count": null,
      "outputs": [
        {
          "output_type": "execute_result",
          "data": {
            "text/plain": [
              "[1, 7, 2, 4, 5, 2, 4, 7, 3, 5, 8, 3, 6, 4, 2, 7, 6, 3, 1]"
            ]
          },
          "metadata": {},
          "execution_count": 14
        }
      ]
    },
    {
      "cell_type": "code",
      "source": [
        "bst=정렬_이진탐색트리()\n",
        "bst.삽입(10)\n",
        "bst.삽입(11)\n",
        "bst.삽입(12)\n",
        "bst.삽입(13)\n",
        "#bst.전위순회(bst.root)\n",
        "bst.정렬_중위순회(bst.root)\n",
        "#bst.후위순회(bst.root)\n",
        "bst.정렬된리스트"
      ],
      "metadata": {
        "colab": {
          "base_uri": "https://localhost:8080/"
        },
        "id": "V86W4lBjYleh",
        "outputId": "ce21c497-3f2c-4850-a6df-cea94aa72f73"
      },
      "execution_count": null,
      "outputs": [
        {
          "output_type": "stream",
          "name": "stdout",
          "text": [
            "10 [10]\n",
            "11 [10, 11]\n",
            "12 [10, 11, 12]\n",
            "13 [10, 11, 12, 13]\n"
          ]
        },
        {
          "output_type": "execute_result",
          "data": {
            "text/plain": [
              "[10, 11, 12, 13]"
            ]
          },
          "metadata": {},
          "execution_count": 34
        }
      ]
    },
    {
      "cell_type": "code",
      "source": [
        "def 트리_정렬(in_l, 모드=0):\n",
        "  l=in_l[:]\n",
        "  bst=정렬_이진탐색트리()\n",
        "  while l:\n",
        "    bst.삽입(l.pop(0))\n",
        "  else:\n",
        "    bst.정렬_중위순회(bst.root)\n",
        "    out_l= bst.정렬된리스트\n",
        "    del bst\n",
        "  if 모드:\n",
        "    out_l.reverse()\n",
        "  return out_l\n",
        "print(l)\n",
        "트리_정렬(l,1)"
      ],
      "metadata": {
        "colab": {
          "base_uri": "https://localhost:8080/"
        },
        "id": "9Tgx0WzLb0h4",
        "outputId": "d9206343-1b18-4657-faff-c49663569b21"
      },
      "execution_count": null,
      "outputs": [
        {
          "output_type": "stream",
          "name": "stdout",
          "text": [
            "[1, 7, 2, 4, 5, 2, 4, 7, 3, 5, 8, 3, 6, 4, 2, 7, 6, 3, 1]\n",
            "2값 있다.\n",
            "삽입 불가\n",
            "4값 있다.\n",
            "삽입 불가\n",
            "7값 있다.\n",
            "삽입 불가\n",
            "5값 있다.\n",
            "삽입 불가\n",
            "3값 있다.\n",
            "삽입 불가\n",
            "4값 있다.\n",
            "삽입 불가\n",
            "2값 있다.\n",
            "삽입 불가\n",
            "7값 있다.\n",
            "삽입 불가\n",
            "6값 있다.\n",
            "삽입 불가\n",
            "3값 있다.\n",
            "삽입 불가\n",
            "1값 있다.\n",
            "삽입 불가\n",
            "1 [1]\n",
            "2 [1, 2]\n",
            "3 [1, 2, 3]\n",
            "4 [1, 2, 3, 4]\n",
            "5 [1, 2, 3, 4, 5]\n",
            "6 [1, 2, 3, 4, 5, 6]\n",
            "7 [1, 2, 3, 4, 5, 6, 7]\n",
            "8 [1, 2, 3, 4, 5, 6, 7, 8]\n"
          ]
        },
        {
          "output_type": "execute_result",
          "data": {
            "text/plain": [
              "[8, 7, 6, 5, 4, 3, 2, 1]"
            ]
          },
          "metadata": {},
          "execution_count": 41
        }
      ]
    },
    {
      "cell_type": "markdown",
      "source": [
        "성능 평가"
      ],
      "metadata": {
        "id": "QnDIAtEcR4wf"
      }
    },
    {
      "cell_type": "code",
      "source": [
        "import time\n",
        "st=time.time()\n",
        "삽입_정렬(l)\n",
        "end=time.time()\n",
        "print(end-st)"
      ],
      "metadata": {
        "colab": {
          "base_uri": "https://localhost:8080/"
        },
        "id": "2jQnjTkPjgPr",
        "outputId": "c2e973b6-32be-41e0-e0da-84de84cbea05"
      },
      "execution_count": null,
      "outputs": [
        {
          "output_type": "stream",
          "name": "stdout",
          "text": [
            "0.0001544952392578125\n"
          ]
        }
      ]
    },
    {
      "cell_type": "code",
      "source": [
        "from random import sample\n",
        "l=[i for i in sample(range(1,1001),1000)]\n",
        "st=time.time()\n",
        "삽입_정렬(l)\n",
        "end=time.time()\n",
        "n1=end-st\n",
        "\n",
        "st=time.time()\n",
        "쉘_정렬(l,2)\n",
        "end=time.time()\n",
        "n2=end-st\n",
        "\n",
        "st=time.time()\n",
        "쉘_정렬2(l)\n",
        "end=time.time()\n",
        "n3=end-st\n",
        "\n",
        "st=time.time()\n",
        "퀵_정렬(l)\n",
        "end=time.time()\n",
        "n4=end-st\n",
        "\n",
        "st=time.time()\n",
        "병합_정렬(l)\n",
        "end=time.time()\n",
        "n5=end-st\n",
        "\n",
        "st=time.time()\n",
        "기수_정렬(l)\n",
        "end=time.time()\n",
        "n6=end-st\n",
        "\n",
        "st=time.time()\n",
        "힙_정렬(l)\n",
        "end=time.time()\n",
        "n7=end-st\n",
        "\n",
        "st=time.time()\n",
        "트리_정렬(l)\n",
        "end=time.time()\n",
        "n8=end-st\n",
        "for n,i in [(\"삽입:\",n1),('쉘1:',n2),('쉘2:',n3),('퀵:',n4),('병합:',n5),('기수:',n6),('힙:',n7),('트리:',n8)]:\n",
        "  print(n,f'{i*1000:.2f}')\n"
      ],
      "metadata": {
        "colab": {
          "base_uri": "https://localhost:8080/"
        },
        "id": "cHM3LZg7R5u5",
        "outputId": "4416ddf3-c821-4134-9d7a-ac8c7d3c086c"
      },
      "execution_count": null,
      "outputs": [
        {
          "output_type": "stream",
          "name": "stdout",
          "text": [
            "삽입: 58.95\n",
            "쉘1: 23.51\n",
            "쉘2: 2.69\n",
            "퀵: 1.67\n",
            "병합: 2.28\n",
            "기수: 1.51\n",
            "힙: 0.46\n",
            "트리: 3.82\n"
          ]
        }
      ]
    },
    {
      "cell_type": "code",
      "source": [
        "l"
      ],
      "metadata": {
        "colab": {
          "base_uri": "https://localhost:8080/"
        },
        "id": "dGP3xkevee7K",
        "outputId": "b2744f1f-50f2-4822-9a69-d17580d1f992"
      },
      "execution_count": null,
      "outputs": [
        {
          "output_type": "execute_result",
          "data": {
            "text/plain": [
              "[1, 7, 2, 4, 5, 2, 4, 7, 3, 5, 8, 3, 6, 4, 2, 7, 6, 3, 1]"
            ]
          },
          "metadata": {},
          "execution_count": 80
        }
      ]
    },
    {
      "cell_type": "markdown",
      "source": [
        "#검색"
      ],
      "metadata": {
        "id": "INeV10gqR25p"
      }
    },
    {
      "cell_type": "code",
      "source": [
        "keys=[1,6,2,4,9,21]\n",
        "len(keys)\n",
        "l=[0 for i in range(len(keys))]\n",
        "l"
      ],
      "metadata": {
        "colab": {
          "base_uri": "https://localhost:8080/"
        },
        "id": "p32uVH1AR4Em",
        "outputId": "62558734-92e0-44fb-db9a-4c14e954c8fe"
      },
      "execution_count": null,
      "outputs": [
        {
          "output_type": "execute_result",
          "data": {
            "text/plain": [
              "[0, 0, 0, 0, 0, 0]"
            ]
          },
          "metadata": {},
          "execution_count": 101
        }
      ]
    },
    {
      "cell_type": "code",
      "source": [
        "#제산\n",
        "for key in keys:\n",
        "  print(key%len(l))"
      ],
      "metadata": {
        "colab": {
          "base_uri": "https://localhost:8080/"
        },
        "id": "_TDfWAbHEHKG",
        "outputId": "c5401b88-8177-4860-864f-2aeb2ca4e330"
      },
      "execution_count": null,
      "outputs": [
        {
          "output_type": "stream",
          "name": "stdout",
          "text": [
            "1\n",
            "0\n",
            "2\n",
            "4\n",
            "3\n",
            "3\n"
          ]
        }
      ]
    },
    {
      "cell_type": "code",
      "source": [
        "keys"
      ],
      "metadata": {
        "colab": {
          "base_uri": "https://localhost:8080/"
        },
        "id": "2EowzX0hE7h6",
        "outputId": "b306da1e-c731-4c69-b6b0-7eba1320b66b"
      },
      "execution_count": null,
      "outputs": [
        {
          "output_type": "execute_result",
          "data": {
            "text/plain": [
              "[1, 6, 2, 4, 9, 21]"
            ]
          },
          "metadata": {},
          "execution_count": 105
        }
      ]
    },
    {
      "cell_type": "code",
      "source": [
        "#삽입\n",
        "key=21\n",
        "if l[key%len(l)]==0:\n",
        "  l[key%len(l)]=key\n",
        "else:\n",
        "  print(\"충돌\")\n",
        "\n",
        "\n"
      ],
      "metadata": {
        "colab": {
          "base_uri": "https://localhost:8080/"
        },
        "id": "evgjmoc1Ee6w",
        "outputId": "502f0c36-d0c2-4b0a-c403-8a34428bfbda"
      },
      "execution_count": null,
      "outputs": [
        {
          "output_type": "stream",
          "name": "stdout",
          "text": [
            "충돌\n"
          ]
        }
      ]
    },
    {
      "cell_type": "code",
      "source": [
        "l"
      ],
      "metadata": {
        "colab": {
          "base_uri": "https://localhost:8080/"
        },
        "id": "k07q-76BEEEZ",
        "outputId": "4d7a3435-40e4-47a8-92ee-ebb8e98116c9"
      },
      "execution_count": null,
      "outputs": [
        {
          "output_type": "execute_result",
          "data": {
            "text/plain": [
              "[6, 1, 2, 9, 4, 0]"
            ]
          },
          "metadata": {},
          "execution_count": 117
        }
      ]
    },
    {
      "cell_type": "markdown",
      "source": [
        "선형 개방"
      ],
      "metadata": {
        "id": "6KKoY_pMFqfm"
      }
    },
    {
      "cell_type": "code",
      "source": [
        "l"
      ],
      "metadata": {
        "colab": {
          "base_uri": "https://localhost:8080/"
        },
        "id": "EcYnhoDMG8za",
        "outputId": "1d07e0af-5f51-4a56-8d5f-3398e2af79cb"
      },
      "execution_count": null,
      "outputs": [
        {
          "output_type": "execute_result",
          "data": {
            "text/plain": [
              "[6, 1, 2, 9, 4, 0]"
            ]
          },
          "metadata": {},
          "execution_count": 118
        }
      ]
    },
    {
      "cell_type": "code",
      "source": [
        "key=21\n",
        "h_f_end=key%len(l)\n",
        "while True:\n",
        "  if l[h_f_end]==0:\n",
        "    l[h_f_end]=key\n",
        "    break\n",
        "  else:\n",
        "    print(\"충돌\")\n",
        "    h_f_end=(h_f_end+1)%len(l)"
      ],
      "metadata": {
        "colab": {
          "base_uri": "https://localhost:8080/"
        },
        "id": "hngqYdTmFr4S",
        "outputId": "96dc77f5-0fc6-4adb-f775-8b7aae20a55c"
      },
      "execution_count": null,
      "outputs": [
        {
          "output_type": "stream",
          "name": "stdout",
          "text": [
            "충돌\n",
            "충돌\n"
          ]
        }
      ]
    },
    {
      "cell_type": "code",
      "source": [
        "l"
      ],
      "metadata": {
        "colab": {
          "base_uri": "https://localhost:8080/"
        },
        "id": "Mftowzw8G8f0",
        "outputId": "4fcd4765-6d92-4608-d897-c6cb854928f9"
      },
      "execution_count": null,
      "outputs": [
        {
          "output_type": "execute_result",
          "data": {
            "text/plain": [
              "[6, 1, 2, 9, 4, 21]"
            ]
          },
          "metadata": {},
          "execution_count": 120
        }
      ]
    },
    {
      "cell_type": "code",
      "source": [
        "keys"
      ],
      "metadata": {
        "colab": {
          "base_uri": "https://localhost:8080/"
        },
        "id": "-e2fD7iIHPn6",
        "outputId": "02dfdc20-a68d-45fe-ea8d-e94ab247de9a"
      },
      "execution_count": null,
      "outputs": [
        {
          "output_type": "execute_result",
          "data": {
            "text/plain": [
              "[1, 6, 2, 4, 9, 21]"
            ]
          },
          "metadata": {},
          "execution_count": 122
        }
      ]
    },
    {
      "cell_type": "code",
      "source": [
        "l=[[] for i in range(len(keys))]"
      ],
      "metadata": {
        "id": "ViPyk-i6HTn2"
      },
      "execution_count": null,
      "outputs": []
    },
    {
      "cell_type": "code",
      "source": [
        "for key in keys:\n",
        "  print(key%len(l))"
      ],
      "metadata": {
        "colab": {
          "base_uri": "https://localhost:8080/"
        },
        "id": "7j9W6Dr6ZfFJ",
        "outputId": "ce1fda18-fa80-4041-d09d-a96cd807f979"
      },
      "execution_count": null,
      "outputs": [
        {
          "output_type": "stream",
          "name": "stdout",
          "text": [
            "1\n",
            "0\n",
            "2\n",
            "4\n",
            "3\n",
            "3\n"
          ]
        }
      ]
    },
    {
      "cell_type": "code",
      "source": [
        "l=[[] for i in range(len(keys))]"
      ],
      "metadata": {
        "id": "uOB6Hqpiawea"
      },
      "execution_count": null,
      "outputs": []
    },
    {
      "cell_type": "code",
      "source": [
        "#삽입\n",
        "key=1\n",
        "l[key%len(l)].append(key)"
      ],
      "metadata": {
        "id": "KPrILjolH4nQ"
      },
      "execution_count": null,
      "outputs": []
    },
    {
      "cell_type": "code",
      "source": [
        "for key in keys:\n",
        "  h_f_end=key%len(l)\n",
        "  if key not in l[h_f_end]:\n",
        "    l[h_f_end].append(key)\n",
        "  else:\n",
        "    print(\"key값이 있다\")"
      ],
      "metadata": {
        "colab": {
          "base_uri": "https://localhost:8080/"
        },
        "id": "3OzM1zQ5aYBJ",
        "outputId": "60c8fceb-0702-4724-e684-9de1c3aad0c2"
      },
      "execution_count": null,
      "outputs": [
        {
          "output_type": "stream",
          "name": "stdout",
          "text": [
            "key값이 있다\n"
          ]
        }
      ]
    },
    {
      "cell_type": "code",
      "source": [
        "l"
      ],
      "metadata": {
        "colab": {
          "base_uri": "https://localhost:8080/"
        },
        "id": "QN5ZyDFDaSLx",
        "outputId": "e950a991-4206-4828-82d7-888e205bd449"
      },
      "execution_count": null,
      "outputs": [
        {
          "output_type": "execute_result",
          "data": {
            "text/plain": [
              "[[6], [1], [2], [9, 21], [4], []]"
            ]
          },
          "metadata": {},
          "execution_count": 135
        }
      ]
    },
    {
      "cell_type": "code",
      "source": [
        "\",\".join(['0','1','2'])"
      ],
      "metadata": {
        "colab": {
          "base_uri": "https://localhost:8080/",
          "height": 35
        },
        "id": "aPplFSbgopX7",
        "outputId": "2017ea42-d997-47ae-d70f-d042c628f5bc"
      },
      "execution_count": null,
      "outputs": [
        {
          "output_type": "execute_result",
          "data": {
            "text/plain": [
              "'0,1,2'"
            ],
            "application/vnd.google.colaboratory.intrinsic+json": {
              "type": "string"
            }
          },
          "metadata": {},
          "execution_count": 146
        }
      ]
    },
    {
      "cell_type": "code",
      "source": [
        "str(1)"
      ],
      "metadata": {
        "colab": {
          "base_uri": "https://localhost:8080/",
          "height": 35
        },
        "id": "ZjPc5l6trqHV",
        "outputId": "039d79c4-9cfc-40ec-c759-82dcd9d8202d"
      },
      "execution_count": null,
      "outputs": [
        {
          "output_type": "execute_result",
          "data": {
            "text/plain": [
              "'1'"
            ],
            "application/vnd.google.colaboratory.intrinsic+json": {
              "type": "string"
            }
          },
          "metadata": {},
          "execution_count": 166
        }
      ]
    },
    {
      "cell_type": "code",
      "source": [
        "str(None)"
      ],
      "metadata": {
        "colab": {
          "base_uri": "https://localhost:8080/",
          "height": 35
        },
        "id": "8RJz5FqdrtT-",
        "outputId": "36748a38-4c76-4d77-8a31-d8d790b2c679"
      },
      "execution_count": null,
      "outputs": [
        {
          "output_type": "execute_result",
          "data": {
            "text/plain": [
              "'None'"
            ],
            "application/vnd.google.colaboratory.intrinsic+json": {
              "type": "string"
            }
          },
          "metadata": {},
          "execution_count": 168
        }
      ]
    },
    {
      "cell_type": "markdown",
      "source": [
        "선형"
      ],
      "metadata": {
        "id": "192yihegdCtY"
      }
    },
    {
      "cell_type": "code",
      "source": [
        "class 선형_해시테이블:\n",
        "  def __init__(self,size):\n",
        "    self._size=size\n",
        "    self._data_l=[None for _ in range(size)]\n",
        "    self._key_l=[None for _ in range(size)]\n",
        "\n",
        "  def 해시함수(self,key):\n",
        "    return key%self._size\n",
        "\n",
        "  def 삽입(self,key,data=\"Nodata\"):\n",
        "    삽입_주소=self.해시함수(key)\n",
        "    종료확인=삽입_주소\n",
        "    이동수=0\n",
        "    while True:\n",
        "      if self._key_l[삽입_주소] == None:\n",
        "        self._key_l[삽입_주소]=key\n",
        "        self._data_l[삽입_주소]=data\n",
        "        return\n",
        "      elif self._key_l[삽입_주소] == key:\n",
        "        self._data_l[삽입_주소]=data\n",
        "        return\n",
        "      이동수+=1\n",
        "      삽입_주소=(삽입_주소+이동수)%self._size\n",
        "      if 종료확인==삽입_주소:\n",
        "        print(\"가득 찼습니다.\")\n",
        "        return\n",
        "\n",
        "  def data_확인(self,key):\n",
        "    확인_주소=self.해시함수(key)\n",
        "    if self._key_l[확인_주소] == None:\n",
        "      print(\"삽입 된 기록이 없습니다.\")\n",
        "    elif self._key_l[확인_주소] == key:\n",
        "      return self._data_l[확인_주소]\n",
        "    else:\n",
        "      ck_주소=확인_주소+1\n",
        "      while ck_주소!=확인_주소:\n",
        "        if self._key_l[ck_주소] == key:\n",
        "          return self._data_l[확인_주소]\n",
        "        ck_주소=(ck_주소+1)%self._size\n",
        "  def __str__(self):\n",
        "    출력문자열=\"\\n\".join([f\"{i:^6}:{str(self._key_l[i]):^4}:{str(self._data_l[i]):^10}\"for i in range(self._size)])\n",
        "    return f'{\"주소\":^4}:{\"키\":^3}:{\"값\":^9}\\n'+출력문자열\n",
        "\n",
        "ht=선형_해시테이블(6)\n",
        "#ht.삽입(1,\"data1\")\n",
        "#ht.삽입(2,\"data2\")\n",
        "#ht.삽입(3,\"data3\")\n",
        "#ht.삽입(4,\"data4\")\n",
        "#ht.삽입(5,\"data5\")\n",
        "#ht.삽입(6,\"data6\")\n",
        "#ht.삽입(7,\"data7\")\n",
        "#ht.삽입(8,\"data8\")\n",
        "#ht.삽입(9,\"data9\")\n",
        "#ht.삽입(10,\"data10\")\n",
        "#print(ht._key_l)\n",
        "#print(ht._data_l)\n",
        "print(ht)"
      ],
      "metadata": {
        "colab": {
          "base_uri": "https://localhost:8080/"
        },
        "id": "MzTdmssCdCFD",
        "outputId": "6285f317-6743-4e5f-a5c3-cb1d39f63a2c"
      },
      "execution_count": null,
      "outputs": [
        {
          "output_type": "stream",
          "name": "stdout",
          "text": [
            " 주소 : 키 :    값    \n",
            "  0   :None:   None   \n",
            "  1   :None:   None   \n",
            "  2   :None:   None   \n",
            "  3   :None:   None   \n",
            "  4   :None:   None   \n",
            "  5   :None:   None   \n"
          ]
        }
      ]
    },
    {
      "cell_type": "markdown",
      "source": [
        "체이닝"
      ],
      "metadata": {
        "id": "FphIrkIZsJo9"
      }
    },
    {
      "cell_type": "code",
      "source": [
        "class 체이닝_해시테이블:\n",
        "  class Node:\n",
        "    def __init__(self,key,data,link):\n",
        "      self._key=key\n",
        "      self._data=data\n",
        "      self._link=link\n",
        "\n",
        "  def __init__(self,size):\n",
        "    self._size=size\n",
        "    self._key_l=[None for _ in range(self._size)]\n",
        "\n",
        "  def  해시함수(self,key):\n",
        "    return key%self._size\n",
        "\n",
        "  def 삽입(self,key, data=\"Nodata\"):\n",
        "    주소=self.해시함수(key)\n",
        "    p=self._key_l[주소]\n",
        "    while p != None:\n",
        "      if p._key==key:\n",
        "        p._data=data\n",
        "        return\n",
        "      p=p._link\n",
        "    self._key_l[주소]=self.Node(key,data,self._key_l[주소])\n",
        "\n",
        "  def data_확인(self,key):\n",
        "    주소=self.해시함수(key)\n",
        "    ck_Node=self._key_l[주소]\n",
        "    while ck_Node !=None:\n",
        "      if ck_Node._key==key:\n",
        "        return ck_Node._data\n",
        "      ck_Node=ck_Node._link\n",
        "    print(\"데이터가 없다.\")\n",
        "\n",
        "  def __str__(self):\n",
        "    출력문자열=[f'{\"주소\":^4}:{\"키\":^3}:{\"값\":^9}']\n",
        "    for 주소 in range(self._size):\n",
        "      p=self._key_l[주소]\n",
        "      while p:\n",
        "        출력문자열.append(f\"{주소:^6}:{p._key:^4}:{p._data:^10}\")\n",
        "        p=p._link\n",
        "    출력문자열=\"\\n\".join(출력문자열)\n",
        "    return 출력문자열\n",
        "\n",
        "#포화\n",
        "ht=선형_해시테이블(2)\n",
        "ht.삽입(1)\n",
        "ht.삽입(2)\n",
        "#ht.삽입(43)\n",
        "print(ht)\n",
        "ht2=체이닝_해시테이블(2)\n",
        "ht2.삽입(1)\n",
        "ht2.삽입(2)\n",
        "ht2.삽입(3)\n",
        "print(ht2)"
      ],
      "metadata": {
        "colab": {
          "base_uri": "https://localhost:8080/"
        },
        "id": "dsIsn22CsK5G",
        "outputId": "7ec3b6f4-b856-4a8e-f0b8-34db4eef13fc"
      },
      "execution_count": null,
      "outputs": [
        {
          "output_type": "stream",
          "name": "stdout",
          "text": [
            " 주소 : 키 :    값    \n",
            "  0   : 2  :  Nodata  \n",
            "  1   : 1  :  Nodata  \n",
            " 주소 : 키 :    값    \n",
            "  0   : 2  :  Nodata  \n",
            "  1   : 3  :  Nodata  \n",
            "  1   : 1  :  Nodata  \n"
          ]
        }
      ]
    }
  ]
}